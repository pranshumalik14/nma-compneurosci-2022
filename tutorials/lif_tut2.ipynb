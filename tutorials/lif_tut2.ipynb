{
  "cells": [
    {
      "cell_type": "markdown",
      "metadata": {
        "id": "view-in-github",
        "colab_type": "text"
      },
      "source": [
        "<a href=\"https://colab.research.google.com/github/pranshumalik14/nma-compneurosci-2022/blob/main/tutorials/lif_tut2.ipynb\" target=\"_parent\"><img src=\"https://colab.research.google.com/assets/colab-badge.svg\" alt=\"Open In Colab\"/></a>"
      ]
    },
    {
      "cell_type": "markdown",
      "metadata": {
        "execution": {},
        "id": "45iMYfpfi7FI"
      },
      "source": [
        "# Tutorial: LIF Neuron Part II\n",
        "**Week 0, Day 2: Python Workshop 2**\n",
        "\n",
        "**By Neuromatch Academy**\n",
        "\n",
        "__Content creators:__ Marco Brigham and the [CCNSS](https://www.ccnss.org/) team\n",
        "\n",
        "__Content reviewers:__ Michael Waskom, Karolina Stosio, Spiros Chavlis\n",
        "\n",
        "__Production Editor:__ Ella Batty"
      ]
    },
    {
      "cell_type": "markdown",
      "metadata": {
        "execution": {},
        "id": "2T5OXGOpi7FS"
      },
      "source": [
        "<p align='center'><img src='https://github.com/NeuromatchAcademy/widgets/blob/master/sponsors.png?raw=True'/></p>"
      ]
    },
    {
      "cell_type": "markdown",
      "metadata": {
        "execution": {},
        "id": "frMAE3Byi7FT"
      },
      "source": [
        "---\n",
        "## Tutorial objectives\n",
        "We learned basic Python and NumPy concepts in the previous tutorial. These new and efficient coding techniques can be applied repeatedly in tutorials from the NMA course, and elsewhere. \n",
        "\n",
        "In this tutorial, we'll introduce spikes in our LIF neuron and evaluate the refractory period's effect in spiking dynamics!\n"
      ]
    },
    {
      "cell_type": "markdown",
      "metadata": {
        "execution": {},
        "id": "XcNnVqG5i7FV"
      },
      "source": [
        "---\n",
        "# Setup"
      ]
    },
    {
      "cell_type": "code",
      "execution_count": 1,
      "metadata": {
        "cellView": "both",
        "execution": {},
        "id": "Kfh8x1fOi7FX"
      },
      "outputs": [],
      "source": [
        "# Imports\n",
        "import numpy as np\n",
        "import matplotlib.pyplot as plt"
      ]
    },
    {
      "cell_type": "code",
      "execution_count": 2,
      "metadata": {
        "cellView": "form",
        "execution": {},
        "id": "COTFxESci7Fa"
      },
      "outputs": [],
      "source": [
        "# @title Figure settings\n",
        "import ipywidgets as widgets       # interactive display\n",
        "%config InlineBackend.figure_format = 'retina'\n",
        "plt.style.use(\"https://raw.githubusercontent.com/NeuromatchAcademy/content-creation/main/nma.mplstyle\")"
      ]
    },
    {
      "cell_type": "code",
      "execution_count": 3,
      "metadata": {
        "execution": {},
        "id": "IpvWZ7qni7Fc",
        "cellView": "form"
      },
      "outputs": [],
      "source": [
        "# @title Helper functions\n",
        "\n",
        "t_max = 150e-3   # second\n",
        "dt = 1e-3        # second\n",
        "tau = 20e-3      # second\n",
        "el = -60e-3      # milivolt\n",
        "vr = -70e-3      # milivolt\n",
        "vth = -50e-3     # milivolt\n",
        "r = 100e6        # ohm\n",
        "i_mean = 25e-11  # ampere\n",
        "\n",
        "\n",
        "def plot_all(t_range, v, raster=None, spikes=None, spikes_mean=None):\n",
        "  \"\"\"\n",
        "  Plots Time evolution for\n",
        "  (1) multiple realizations of membrane potential\n",
        "  (2) spikes\n",
        "  (3) mean spike rate (optional)\n",
        "\n",
        "  Args:\n",
        "    t_range (numpy array of floats)\n",
        "        range of time steps for the plots of shape (time steps)\n",
        "\n",
        "    v (numpy array of floats)\n",
        "        membrane potential values of shape (neurons, time steps)\n",
        "\n",
        "    raster (numpy array of floats)\n",
        "        spike raster of shape (neurons, time steps)\n",
        "\n",
        "    spikes (dictionary of lists)\n",
        "        list with spike times indexed by neuron number\n",
        "\n",
        "    spikes_mean (numpy array of floats)\n",
        "        Mean spike rate for spikes as dictionary\n",
        "\n",
        "  Returns:\n",
        "    Nothing.\n",
        "  \"\"\"\n",
        "\n",
        "  v_mean = np.mean(v, axis=0)\n",
        "  fig_w, fig_h = plt.rcParams['figure.figsize']\n",
        "  plt.figure(figsize=(fig_w, 1.5 * fig_h))\n",
        "\n",
        "  ax1 = plt.subplot(3, 1, 1)\n",
        "  for j in range(n):\n",
        "    plt.scatter(t_range, v[j], color=\"k\", marker=\".\", alpha=0.01)\n",
        "  plt.plot(t_range, v_mean, 'C1', alpha=0.8, linewidth=3)\n",
        "  plt.xticks([])\n",
        "  plt.ylabel(r'$V_m$ (V)')\n",
        "\n",
        "  if raster is not None:\n",
        "    plt.subplot(3, 1, 2)\n",
        "    spikes_mean = np.mean(raster, axis=0)\n",
        "    plt.imshow(raster, cmap='Greys', origin='lower', aspect='auto')\n",
        "\n",
        "  else:\n",
        "    plt.subplot(3, 1, 2, sharex=ax1)\n",
        "    for j in range(n):\n",
        "      times = np.array(spikes[j])\n",
        "      plt.scatter(times, j * np.ones_like(times), color=\"C0\", marker=\".\", alpha=0.2)\n",
        "\n",
        "  plt.xticks([])\n",
        "  plt.ylabel('neuron')\n",
        "\n",
        "  if spikes_mean is not None:\n",
        "    plt.subplot(3, 1, 3, sharex=ax1)\n",
        "    plt.plot(t_range, spikes_mean)\n",
        "    plt.xlabel('time (s)')\n",
        "    plt.ylabel('rate (Hz)')\n",
        "\n",
        "  plt.tight_layout()\n",
        "  plt.show()"
      ]
    },
    {
      "cell_type": "markdown",
      "metadata": {
        "execution": {},
        "id": "4MjxtgLui7Fg"
      },
      "source": [
        "---\n",
        "# Section 1: Histograms\n"
      ]
    },
    {
      "cell_type": "code",
      "execution_count": 4,
      "metadata": {
        "cellView": "form",
        "execution": {},
        "id": "6-_G-uzpi7Fi",
        "colab": {
          "base_uri": "https://localhost:8080/",
          "height": 580,
          "referenced_widgets": [
            "0b87093c17b747c8bc2fa99527c513da",
            "78266ee8cb894207a1d4471703d89cb5",
            "fc385ece3fec4ee49309022d14f3910f",
            "fcd443ebf6ed47fba78a4a7616f7825c",
            "6f097e2cb0a34634995945891a087ba5",
            "9a6268af4c8341ae80fcf5a1fc773720"
          ]
        },
        "outputId": "290fb835-58f9-489d-8af3-14f70f588070"
      },
      "outputs": [
        {
          "output_type": "display_data",
          "data": {
            "text/plain": [
              "Tab(children=(Output(), Output()), _titles={'0': 'Youtube', '1': 'Bilibili'})"
            ],
            "application/vnd.jupyter.widget-view+json": {
              "version_major": 2,
              "version_minor": 0,
              "model_id": "0b87093c17b747c8bc2fa99527c513da"
            }
          },
          "metadata": {}
        }
      ],
      "source": [
        "# @title Video 1: Histograms\n",
        "from ipywidgets import widgets\n",
        "\n",
        "out2 = widgets.Output()\n",
        "with out2:\n",
        "  from IPython.display import IFrame\n",
        "  class BiliVideo(IFrame):\n",
        "      def __init__(self, id, page=1, width=400, height=300, **kwargs):\n",
        "          self.id=id\n",
        "          src = 'https://player.bilibili.com/player.html?bvid={0}&page={1}'.format(id, page)\n",
        "          super(BiliVideo, self).__init__(src, width, height, **kwargs)\n",
        "\n",
        "  video = BiliVideo(id=\"BV1GC4y1h7Ex\", width=854, height=480, fs=1)\n",
        "  print('Video available at https://www.bilibili.com/video/{0}'.format(video.id))\n",
        "  display(video)\n",
        "\n",
        "out1 = widgets.Output()\n",
        "with out1:\n",
        "  from IPython.display import YouTubeVideo\n",
        "  video = YouTubeVideo(id=\"J24tne-IwvY\", width=854, height=480, fs=1, rel=0)\n",
        "  print('Video available at https://youtube.com/watch?v=' + video.id)\n",
        "  display(video)\n",
        "\n",
        "out = widgets.Tab([out1, out2])\n",
        "out.set_title(0, 'Youtube')\n",
        "out.set_title(1, 'Bilibili')\n",
        "\n",
        "display(out)"
      ]
    },
    {
      "cell_type": "markdown",
      "metadata": {
        "execution": {},
        "id": "6lUYU3cEi7Fm"
      },
      "source": [
        "<figure>\n",
        "<img src=\"https://raw.githubusercontent.com/NeuromatchAcademy/precourse/main/tutorials/W0D2_PythonWorkshop2/static/histogram_statistics.png\">\n",
        "</figure>\n",
        "\n",
        "<br>\n",
        "\n",
        "Another important statistic is the sample [histogram](https://en.wikipedia.org/wiki/Histogram). For our LIF neuron it provides an approximate representation of the distribution of membrane potential $V_m(t)$ at time $t=t_k\\in[0,t_{max}]$. For $N$ realizations $V\\left(t_k\\right)$ and $J$ bins is given by:\n",
        "\n",
        "<br>\n",
        "\\begin{equation}\n",
        "N = \\sum_{j=1}^{J} m_j\n",
        "\\end{equation}\n",
        "<br>\n",
        "\n",
        "where $m_j$ is a function that counts the number of samples $V\\left(t_k\\right)$ that fall into bin $j$.\n",
        "\n",
        "The function `plt.hist(data, nbins)` plots an histogram of `data` in `nbins` bins. The argument `label` defines a label for `data` and `plt.legend()` adds all labels to the plot.\n",
        "\n",
        "```python\n",
        "plt.hist(data, bins, label='my data')\n",
        "plt.legend()\n",
        "plt.show()\n",
        "```\n",
        "\n",
        "The parameters `histtype='stepfilled'` and `linewidth=0` may improve histogram appearance (depending on taste). You can read more about [different histtype settings](https://matplotlib.org/gallery/statistics/histogram_histtypes.html).\n",
        "\n",
        "The function `plt.hist` returns the `pdf`, `bins`, and `patches` with the histogram bins, the edges of the bins, and the individual patches used to create the histogram.\n",
        "\n",
        "```python\n",
        "pdf, bins, patches = plt.hist(data, bins)\n",
        "```"
      ]
    },
    {
      "cell_type": "code",
      "execution_count": 5,
      "metadata": {
        "cellView": "form",
        "execution": {},
        "id": "kkjPyqzMi7Fo",
        "colab": {
          "base_uri": "https://localhost:8080/",
          "height": 580,
          "referenced_widgets": [
            "eaae62a20e1e4ac0b535d6c8bab9d5a3",
            "2fc927fb345845468e160174e641095e",
            "d49e80ae33264db6bbfaf5b512025ccf",
            "04647c445a174af1a18cfb7b2d2b7880",
            "7b6eb562b8644ddebb91ff7f767327ff",
            "87aaf4cc260a4255aae6cede759b0c0d"
          ]
        },
        "outputId": "a0370f2f-03d8-4aa0-93fa-78525779ae1c"
      },
      "outputs": [
        {
          "output_type": "display_data",
          "data": {
            "text/plain": [
              "Tab(children=(Output(), Output()), _titles={'0': 'Youtube', '1': 'Bilibili'})"
            ],
            "application/vnd.jupyter.widget-view+json": {
              "version_major": 2,
              "version_minor": 0,
              "model_id": "eaae62a20e1e4ac0b535d6c8bab9d5a3"
            }
          },
          "metadata": {}
        }
      ],
      "source": [
        "# @title Video 2: Nano recap of histograms\n",
        "from ipywidgets import widgets\n",
        "\n",
        "out2 = widgets.Output()\n",
        "with out2:\n",
        "  from IPython.display import IFrame\n",
        "  class BiliVideo(IFrame):\n",
        "      def __init__(self, id, page=1, width=400, height=300, **kwargs):\n",
        "          self.id=id\n",
        "          src = 'https://player.bilibili.com/player.html?bvid={0}&page={1}'.format(id, page)\n",
        "          super(BiliVideo, self).__init__(src, width, height, **kwargs)\n",
        "\n",
        "  video = BiliVideo(id=\"BV1Zv411B7mD\", width=854, height=480, fs=1)\n",
        "  print('Video available at https://www.bilibili.com/video/{0}'.format(video.id))\n",
        "  display(video)\n",
        "\n",
        "out1 = widgets.Output()\n",
        "with out1:\n",
        "  from IPython.display import YouTubeVideo\n",
        "  video = YouTubeVideo(id=\"71f1J98zj80\", width=854, height=480, fs=1, rel=0)\n",
        "  print('Video available at https://youtube.com/watch?v=' + video.id)\n",
        "  display(video)\n",
        "\n",
        "out = widgets.Tab([out1, out2])\n",
        "out.set_title(0, 'Youtube')\n",
        "out.set_title(1, 'Bilibili')\n",
        "\n",
        "display(out)"
      ]
    },
    {
      "cell_type": "markdown",
      "metadata": {
        "execution": {},
        "id": "cpxhc1k0i7Fq"
      },
      "source": [
        "## Coding Exercise 1: Plotting a histogram\n",
        "Plot an histogram of $J=50$ bins of $N=10000$ realizations of $V(t)$ for $t=t_{max}/10$ and $t=t_{max}$.\n",
        "\n",
        "We'll make a small correction in the definition of `t_range` to ensure increments of `dt` by using `np.arange` instead of `np.linspace`.\n",
        "\n",
        "    numpy.arange(start, stop, step)\n"
      ]
    },
    {
      "cell_type": "code",
      "execution_count": 7,
      "metadata": {
        "execution": {},
        "id": "hH3jefGNi7Fr",
        "colab": {
          "base_uri": "https://localhost:8080/",
          "height": 430
        },
        "outputId": "0cb43ffe-597a-4ead-be91-f01d88980ca0"
      },
      "outputs": [
        {
          "output_type": "display_data",
          "data": {
            "text/plain": [
              "<Figure size 576x432 with 1 Axes>"
            ],
            "image/png": "[encoded data removed]"
          },
          "metadata": {
            "image/png": {
              "width": 558,
              "height": 413
            },
            "needs_background": "light"
          }
        }
      ],
      "source": [
        "# Set random number generator\n",
        "np.random.seed(2020)\n",
        "\n",
        "# Initialize t_range, step_end, n, v_n, i and nbins\n",
        "t_range = np.arange(0, t_max, dt)\n",
        "step_end = len(t_range)\n",
        "n = 10000\n",
        "v_n = el * np.ones([n, step_end])\n",
        "i = i_mean * (1 + 0.1 * (t_max / dt)**(0.5) * (2 * np.random.random([n, step_end]) - 1))\n",
        "nbins = 50\n",
        "\n",
        "# Loop over time steps\n",
        "for step, t in enumerate(t_range):\n",
        "\n",
        "  # Skip first iteration\n",
        "  if step==0:\n",
        "    continue\n",
        "\n",
        "  # Compute v_n\n",
        "  v_n[:, step] =  v_n[:, step - 1] + (dt / tau) * (el - v_n[:, step - 1] + r * i[:, step])\n",
        "\n",
        "# Initialize the figure\n",
        "plt.figure()\n",
        "plt.ylabel('Frequency')\n",
        "plt.xlabel('$V_m$ (V)')\n",
        "\n",
        "# Plot a histogram at t_max/10 (add labels and parameters histtype='stepfilled' and linewidth=0)\n",
        "plt.hist(v_n[:, int(step_end/10)], nbins, label=\"$t_{max}/10$\", histtype=\"stepfilled\", linewidth=0)\n",
        "\n",
        "# Plot a histogram at t_max (add labels and parameters histtype='stepfilled' and linewidth=0)\n",
        "plt.hist(v_n[:, -1], nbins, label=\"$t_{max}$\", histtype=\"stepfilled\", linewidth=0)\n",
        "\n",
        "# Add legend\n",
        "plt.legend()\n",
        "plt.show()"
      ]
    },
    {
      "cell_type": "markdown",
      "metadata": {
        "execution": {},
        "id": "Rrr0qUvIi7Ft"
      },
      "source": [
        "[*Click for solution*](https://github.com/NeuromatchAcademy/precourse/tree/main//tutorials/W0D2_PythonWorkshop2/solutions/W0D2_Tutorial1_Solution_04b855a3.py)\n",
        "\n",
        "*Example output:*\n",
        "\n",
        "<img alt='Solution hint' align='left' width=849.0 height=561.0 src=https://raw.githubusercontent.com/NeuromatchAcademy/precourse/main/tutorials/W0D2_PythonWorkshop2/static/W0D2_Tutorial1_Solution_04b855a3_0.png>\n",
        "\n"
      ]
    },
    {
      "cell_type": "markdown",
      "metadata": {
        "execution": {},
        "id": "v4WC947Hi7Fv"
      },
      "source": [
        "---\n",
        "# Section 2: Dictionaries & introducing spikes\n"
      ]
    },
    {
      "cell_type": "code",
      "execution_count": 8,
      "metadata": {
        "cellView": "form",
        "execution": {},
        "id": "juGdXqn9i7Fw",
        "colab": {
          "base_uri": "https://localhost:8080/",
          "height": 580,
          "referenced_widgets": [
            "7dab7ec4271c4b74b94d93ed49d1f562",
            "31aa9ed119aa47bda85c65bc179dfe70",
            "ef70e88d71ec4d31a418846cafcb000c",
            "8bd4e0762348414c953d35cf80107506",
            "0b1cb5d8ec954486b6b5da2f833efc2d",
            "4f17a9e640f14d1a81238766adb2197c"
          ]
        },
        "outputId": "bb85ad31-f8a6-4c71-e94e-f065cb8aa6d3"
      },
      "outputs": [
        {
          "output_type": "display_data",
          "data": {
            "text/plain": [
              "Tab(children=(Output(), Output()), _titles={'0': 'Youtube', '1': 'Bilibili'})"
            ],
            "application/vnd.jupyter.widget-view+json": {
              "version_major": 2,
              "version_minor": 0,
              "model_id": "7dab7ec4271c4b74b94d93ed49d1f562"
            }
          },
          "metadata": {}
        }
      ],
      "source": [
        "# @title Video 3: Dictionaries & introducing spikes\n",
        "from ipywidgets import widgets\n",
        "\n",
        "out2 = widgets.Output()\n",
        "with out2:\n",
        "  from IPython.display import IFrame\n",
        "  class BiliVideo(IFrame):\n",
        "      def __init__(self, id, page=1, width=400, height=300, **kwargs):\n",
        "          self.id=id\n",
        "          src = 'https://player.bilibili.com/player.html?bvid={0}&page={1}'.format(id, page)\n",
        "          super(BiliVideo, self).__init__(src, width, height, **kwargs)\n",
        "\n",
        "  video = BiliVideo(id=\"BV1H54y1q7oS\", width=854, height=480, fs=1)\n",
        "  print('Video available at https://www.bilibili.com/video/{0}'.format(video.id))\n",
        "  display(video)\n",
        "\n",
        "out1 = widgets.Output()\n",
        "with out1:\n",
        "  from IPython.display import YouTubeVideo\n",
        "  video = YouTubeVideo(id=\"ioKkiukDkNg\", width=854, height=480, fs=1, rel=0)\n",
        "  print('Video available at https://youtube.com/watch?v=' + video.id)\n",
        "  display(video)\n",
        "\n",
        "out = widgets.Tab([out1, out2])\n",
        "out.set_title(0, 'Youtube')\n",
        "out.set_title(1, 'Bilibili')\n",
        "\n",
        "display(out)"
      ]
    },
    {
      "cell_type": "markdown",
      "metadata": {
        "execution": {},
        "id": "F8_nVFlEi7Fy"
      },
      "source": [
        "**A** spike takes place whenever $V(t)$ crosses $V_{th}$. In that case, a spike is recorded and $V(t)$ resets to $V_{reset}$ value. This is summarized in the *reset condition*:\n",
        "\n",
        "\\begin{equation}\n",
        "V(t) = V_{reset}\\quad \\text{ if } V(t)\\geq V_{th}\n",
        "\\end{equation}\n",
        "\n",
        "For more information about spikes or action potentials see [here](https://en.wikipedia.org/wiki/Action_potential) and [here](https://www.khanacademy.org/test-prep/mcat/organ-systems/neuron-membrane-potentials/a/neuron-action-potentials-the-creation-of-a-brain-signal).\n",
        "\n",
        "\n",
        "<figure>\n",
        "<img src=\"https://raw.githubusercontent.com/NeuromatchAcademy/precourse/main/tutorials/W0D2_PythonWorkshop2/static/spikes_carton.png\">\n",
        "</figure>"
      ]
    },
    {
      "cell_type": "code",
      "execution_count": 9,
      "metadata": {
        "cellView": "form",
        "execution": {},
        "id": "zEnSlP78i7Fz",
        "colab": {
          "base_uri": "https://localhost:8080/",
          "height": 580,
          "referenced_widgets": [
            "0120d18913a8438da704f680464bbe29",
            "1fe6c8df535d41bbbf0a376ff571d38b",
            "83818043791e41f2bbf68345784a7ac4",
            "1411bb70d8a24025b74ccff7b7e5cd9b",
            "5e3f57a1fe5c415492dce5b766e30de4",
            "4ed99f12d1f8470ebe4172d726453762"
          ]
        },
        "outputId": "79a18e52-001c-4e48-a13f-c0f79769f4e1"
      },
      "outputs": [
        {
          "output_type": "display_data",
          "data": {
            "text/plain": [
              "Tab(children=(Output(), Output()), _titles={'0': 'Youtube', '1': 'Bilibili'})"
            ],
            "application/vnd.jupyter.widget-view+json": {
              "version_major": 2,
              "version_minor": 0,
              "model_id": "0120d18913a8438da704f680464bbe29"
            }
          },
          "metadata": {}
        }
      ],
      "source": [
        "# @title Video 4: Nano recap of dictionaries\n",
        "from ipywidgets import widgets\n",
        "\n",
        "out2 = widgets.Output()\n",
        "with out2:\n",
        "  from IPython.display import IFrame\n",
        "  class BiliVideo(IFrame):\n",
        "      def __init__(self, id, page=1, width=400, height=300, **kwargs):\n",
        "          self.id=id\n",
        "          src = 'https://player.bilibili.com/player.html?bvid={0}&page={1}'.format(id, page)\n",
        "          super(BiliVideo, self).__init__(src, width, height, **kwargs)\n",
        "\n",
        "  video = BiliVideo(id=\"BV1GC4y1h7hi\", width=854, height=480, fs=1)\n",
        "  print('Video available at https://www.bilibili.com/video/{0}'.format(video.id))\n",
        "  display(video)\n",
        "\n",
        "out1 = widgets.Output()\n",
        "with out1:\n",
        "  from IPython.display import YouTubeVideo\n",
        "  video = YouTubeVideo(id=\"nvpHtzuZggg\", width=854, height=480, fs=1, rel=0)\n",
        "  print('Video available at https://youtube.com/watch?v=' + video.id)\n",
        "  display(video)\n",
        "\n",
        "out = widgets.Tab([out1, out2])\n",
        "out.set_title(0, 'Youtube')\n",
        "out.set_title(1, 'Bilibili')\n",
        "\n",
        "display(out)"
      ]
    },
    {
      "cell_type": "markdown",
      "metadata": {
        "execution": {},
        "id": "RfxHvHcoi7F0"
      },
      "source": [
        "## Coding Exercise 2: Adding spiking to the LIF neuron\n",
        "\n",
        "Insert the reset condition, and collect the spike times of each realization in a dictionary variable `spikes`, with $N=500$.\n",
        "\n",
        "We've used `plt.plot` for plotting lines and also for plotting dots at `(x,y)` coordinates, which is a [scatter plot](https://en.wikipedia.org/wiki/Scatter_plot). From here on, we'll use use `plt.plot` for plotting lines and for scatter plots: `plt.scatter`.\n",
        "\n",
        "```python\n",
        "plt.scatter(x, y, color=\"k\", marker=\".\")\n",
        "```\n",
        "\n",
        "A *raster plot* represents spikes from multiple neurons by plotting dots at spike times from neuron `j` at plot height `j`, i.e. \n",
        "\n",
        "```python\n",
        "plt.scatter(spike_times, j*np.ones_like(spike_times))\n",
        "```\n",
        "\n",
        "<figure>\n",
        "<img src=\"https://raw.githubusercontent.com/NeuromatchAcademy/precourse/main/tutorials/W0D2_PythonWorkshop2/static/spikes_plot.png\">\n",
        "</figure>\n",
        "\n",
        "In this exercise, we use `plt.subplot` for multiple plots in the same figure. These plots can share the same `x` or `y` axis by specifying the parameter `sharex` or `sharey`. Add `plt.tight_layout()` at the end to automatically adjust subplot parameters to fit the figure area better. Please see the example below for a row of two plots sharing axis `y`.\n",
        "\n",
        "```python\n",
        "# initialize the figure\n",
        "plt.figure()\n",
        "\n",
        "# collect axis of 1st figure in ax1\n",
        "ax1 = plt.subplot(1, 2, 1)\n",
        "plt.plot(t_range, my_data_left)\n",
        "plt.ylabel('ylabel')\n",
        "\n",
        "# share axis x with 1st figure\n",
        "plt.subplot(1, 2, 2, sharey=ax1)\n",
        "plt.plot(t_range, my_data_right)\n",
        "\n",
        "# automatically adjust subplot parameters to figure\n",
        "plt.tight_layout()\n",
        "plt.show()\n",
        "```"
      ]
    },
    {
      "cell_type": "code",
      "execution_count": null,
      "metadata": {
        "execution": {},
        "id": "RCMnILAGi7F2"
      },
      "outputs": [],
      "source": [
        "# Set random number generator\n",
        "np.random.seed(2020)\n",
        "\n",
        "# Initialize step_end, t_range, n, v_n and i\n",
        "t_range = np.arange(0, t_max, dt)\n",
        "step_end = len(t_range)\n",
        "n = 500\n",
        "v_n = el * np.ones([n, step_end])\n",
        "i = i_mean * (1 + 0.1 * (t_max / dt)**(0.5) * (2 * np.random.random([n, step_end]) - 1))\n",
        "\n",
        "# Initialize spikes and spikes_n\n",
        "spikes = {j: [] for j in range(n)}\n",
        "spikes_n = np.zeros([step_end])\n",
        "\n",
        "#################################################\n",
        "## TODO for students: add spikes to LIF neuron ##\n",
        "# Fill out function and remove\n",
        "raise NotImplementedError(\"Student exercise: add spikes to LIF neuron\")\n",
        "#################################################\n",
        "\n",
        "# Loop over time steps\n",
        "for step, t in enumerate(t_range):\n",
        "\n",
        "  # Skip first iteration\n",
        "  if step==0:\n",
        "    continue\n",
        "\n",
        "  # Compute v_n\n",
        "  v_n[:, step] = v_n[:, step - 1] + (dt / tau) * (el - v_n[:, step - 1] + r*i[:, step])\n",
        "\n",
        "  # Loop over simulations\n",
        "  for j in range(n):\n",
        "\n",
        "    # Check if voltage above threshold\n",
        "    if v_n[j, step] >= vth:\n",
        "\n",
        "      # Reset to reset voltage\n",
        "      v_n[j, step] = ...\n",
        "\n",
        "      # Add this spike time\n",
        "      spikes[j] += ...\n",
        "\n",
        "      # Add spike count to this step\n",
        "      spikes_n[step] += ...\n",
        "\n",
        "# Collect mean Vm and mean spiking rate\n",
        "v_mean = np.mean(v_n, axis=0)\n",
        "spikes_mean =  spikes_n / n\n",
        "\n",
        "# Initialize the figure\n",
        "plt.figure()\n",
        "\n",
        "# Plot simulations and sample mean\n",
        "ax1 = plt.subplot(3, 1, 1)\n",
        "for j in range(n):\n",
        "  plt.scatter(t_range, v_n[j], color=\"k\", marker=\".\", alpha=0.01)\n",
        "plt.plot(t_range, v_mean, 'C1', alpha=0.8, linewidth=3)\n",
        "plt.ylabel('$V_m$ (V)')\n",
        "\n",
        "# Plot spikes\n",
        "plt.subplot(3, 1, 2, sharex=ax1)\n",
        "# for each neuron j: collect spike times and plot them at height j\n",
        "for j in range(n):\n",
        "  times = ...\n",
        "  plt.scatter(...)\n",
        "\n",
        "plt.ylabel('neuron')\n",
        "\n",
        "# Plot firing rate\n",
        "plt.subplot(3, 1, 3, sharex=ax1)\n",
        "plt.plot(t_range, spikes_mean)\n",
        "plt.xlabel('time (s)')\n",
        "plt.ylabel('rate (Hz)')\n",
        "\n",
        "plt.tight_layout()"
      ]
    },
    {
      "cell_type": "markdown",
      "metadata": {
        "execution": {},
        "id": "ZFxzWVADi7F7"
      },
      "source": [
        "[*Click for solution*](https://github.com/NeuromatchAcademy/precourse/tree/main//tutorials/W0D2_PythonWorkshop2/solutions/W0D2_Tutorial1_Solution_9aaee1d8.py)\n",
        "\n",
        "*Example output:*\n",
        "\n",
        "<img alt='Solution hint' align='left' width=775.0 height=575.0 src=https://raw.githubusercontent.com/NeuromatchAcademy/precourse/main/tutorials/W0D2_PythonWorkshop2/static/W0D2_Tutorial1_Solution_9aaee1d8_0.png>\n",
        "\n"
      ]
    },
    {
      "cell_type": "markdown",
      "metadata": {
        "execution": {},
        "id": "CLphVWcZi7F8"
      },
      "source": [
        "---\n",
        "# Section 3: Boolean indexes\n"
      ]
    },
    {
      "cell_type": "code",
      "execution_count": null,
      "metadata": {
        "cellView": "form",
        "execution": {},
        "id": "hTpwdf4Ji7F8"
      },
      "outputs": [],
      "source": [
        "# @title Video 5: Boolean indexes\n",
        "from ipywidgets import widgets\n",
        "\n",
        "out2 = widgets.Output()\n",
        "with out2:\n",
        "  from IPython.display import IFrame\n",
        "  class BiliVideo(IFrame):\n",
        "      def __init__(self, id, page=1, width=400, height=300, **kwargs):\n",
        "          self.id=id\n",
        "          src = 'https://player.bilibili.com/player.html?bvid={0}&page={1}'.format(id, page)\n",
        "          super(BiliVideo, self).__init__(src, width, height, **kwargs)\n",
        "\n",
        "  video = BiliVideo(id=\"BV1W54y1q7eh\", width=854, height=480, fs=1)\n",
        "  print('Video available at https://www.bilibili.com/video/{0}'.format(video.id))\n",
        "  display(video)\n",
        "\n",
        "out1 = widgets.Output()\n",
        "with out1:\n",
        "  from IPython.display import YouTubeVideo\n",
        "  video = YouTubeVideo(id=\"G0C1v848I9Y\", width=854, height=480, fs=1, rel=0)\n",
        "  print('Video available at https://youtube.com/watch?v=' + video.id)\n",
        "  display(video)\n",
        "\n",
        "out = widgets.Tab([out1, out2])\n",
        "out.set_title(0, 'Youtube')\n",
        "out.set_title(1, 'Bilibili')\n",
        "\n",
        "display(out)"
      ]
    },
    {
      "cell_type": "markdown",
      "metadata": {
        "execution": {},
        "id": "BlV1IWwxi7GC"
      },
      "source": [
        "Numpy arrays can be indexed by boolean arrays to select a subset of elements (also works with lists of booleans).\n",
        "\n",
        "The boolean array itself can be initiated by a condition, as shown in the example below.\n",
        "\n",
        "```python\n",
        "a = np.array([1, 2, 3])\n",
        "b = a>=2\n",
        "print(b)\n",
        "--> [False  True  True]\n",
        "\n",
        "print(a[b])\n",
        "--> [2 3]\n",
        "\n",
        "print(a[a>=2])\n",
        "--> [2 3]\n",
        "```"
      ]
    },
    {
      "cell_type": "code",
      "execution_count": null,
      "metadata": {
        "cellView": "form",
        "execution": {},
        "id": "JmM5SJk_i7GD"
      },
      "outputs": [],
      "source": [
        "# @title Video 6: Nano recap of Boolean indexes\n",
        "from ipywidgets import widgets\n",
        "\n",
        "out2 = widgets.Output()\n",
        "with out2:\n",
        "  from IPython.display import IFrame\n",
        "  class BiliVideo(IFrame):\n",
        "      def __init__(self, id, page=1, width=400, height=300, **kwargs):\n",
        "          self.id=id\n",
        "          src = 'https://player.bilibili.com/player.html?bvid={0}&page={1}'.format(id, page)\n",
        "          super(BiliVideo, self).__init__(src, width, height, **kwargs)\n",
        "\n",
        "  video = BiliVideo(id=\"BV1W54y1q7gi\", width=854, height=480, fs=1)\n",
        "  print('Video available at https://www.bilibili.com/video/{0}'.format(video.id))\n",
        "  display(video)\n",
        "\n",
        "out1 = widgets.Output()\n",
        "with out1:\n",
        "  from IPython.display import YouTubeVideo\n",
        "  video = YouTubeVideo(id=\"dFPgO5wnyLc\", width=854, height=480, fs=1, rel=0)\n",
        "  print('Video available at https://youtube.com/watch?v=' + video.id)\n",
        "  display(video)\n",
        "\n",
        "out = widgets.Tab([out1, out2])\n",
        "out.set_title(0, 'Youtube')\n",
        "out.set_title(1, 'Bilibili')\n",
        "\n",
        "display(out)"
      ]
    },
    {
      "cell_type": "markdown",
      "metadata": {
        "execution": {},
        "id": "ddVHpYLfi7GG"
      },
      "source": [
        "## Coding Exercise 3: Using Boolean indexing\n",
        "\n",
        "We can avoid looping all neurons in each time step by identifying with boolean arrays the indexes of neurons that spiked in the previous step.\n",
        "\n",
        "In the example below, `v_rest` is a boolean numpy array with `True` in each index of `v_n` with value `vr` at time index `step`:\n",
        "\n",
        "```python\n",
        "v_rest = (v_n[:,step] == vr)\n",
        "print(v_n[v_rest,step])\n",
        "  --> [vr, ..., vr]\n",
        "```\n",
        "\n",
        "The function `np.where` returns indexes of boolean arrays with `True` values.\n",
        "\n",
        "You may use the helper function `plot_all` that implements the figure from the previous exercise."
      ]
    },
    {
      "cell_type": "code",
      "execution_count": null,
      "metadata": {
        "execution": {},
        "id": "3_GbtgPri7GG"
      },
      "outputs": [],
      "source": [
        "help(plot_all)"
      ]
    },
    {
      "cell_type": "code",
      "execution_count": null,
      "metadata": {
        "execution": {},
        "id": "779XVR23i7GH"
      },
      "outputs": [],
      "source": [
        "# Set random number generator\n",
        "np.random.seed(2020)\n",
        "\n",
        "# Initialize step_end, t_range, n, v_n and i\n",
        "t_range = np.arange(0, t_max, dt)\n",
        "step_end = len(t_range)\n",
        "n = 500\n",
        "v_n = el * np.ones([n, step_end])\n",
        "i = i_mean * (1 + 0.1 * (t_max / dt)**(0.5) * (2 * np.random.random([n, step_end]) - 1))\n",
        "\n",
        "# Initialize spikes and spikes_n\n",
        "spikes = {j: [] for j in range(n)}\n",
        "spikes_n = np.zeros([step_end])\n",
        "\n",
        "#################################################\n",
        "## TODO for students: use Boolean indexing ##\n",
        "# Fill out function and remove\n",
        "raise NotImplementedError(\"Student exercise: using Boolean indexing\")\n",
        "#################################################\n",
        "\n",
        "# Loop over time steps\n",
        "for step, t in enumerate(t_range):\n",
        "\n",
        "  # Skip first iteration\n",
        "  if step == 0:\n",
        "    continue\n",
        "\n",
        "  # Compute v_n\n",
        "  v_n[:, step] = v_n[:, step - 1] + (dt / tau) * (el - v_n[:, step - 1] + r*i[:, step])\n",
        "\n",
        "  # Initialize boolean numpy array `spiked` with v_n > v_thr\n",
        "  spiked = ...\n",
        "\n",
        "  # Set relevant values of v_n to resting potential using spiked\n",
        "  v_n[spiked,step] = ...\n",
        "\n",
        "  # Collect spike times\n",
        "  for j in np.where(spiked)[0]:\n",
        "    spikes[j] += [t]\n",
        "    spikes_n[step] += 1\n",
        "\n",
        "# Collect mean spiking rate\n",
        "spikes_mean = spikes_n / n\n",
        "\n",
        "# Plot multiple realizations of Vm, spikes and mean spike rate\n",
        "plot_all(t_range, v_n, spikes=spikes, spikes_mean=spikes_mean)"
      ]
    },
    {
      "cell_type": "markdown",
      "metadata": {
        "execution": {},
        "id": "4Ohc2vtXi7GI"
      },
      "source": [
        "[*Click for solution*](https://github.com/NeuromatchAcademy/precourse/tree/main//tutorials/W0D2_PythonWorkshop2/solutions/W0D2_Tutorial1_Solution_5061d76b.py)\n",
        "\n",
        "*Example output:*\n",
        "\n",
        "<img alt='Solution hint' align='left' width=778.0 height=877.0 src=https://raw.githubusercontent.com/NeuromatchAcademy/precourse/main/tutorials/W0D2_PythonWorkshop2/static/W0D2_Tutorial1_Solution_5061d76b_0.png>\n",
        "\n"
      ]
    },
    {
      "cell_type": "markdown",
      "metadata": {
        "execution": {},
        "id": "EZfeG3MEi7GI"
      },
      "source": [
        "## Coding Exercise 4: Making a binary raster plot\n",
        "\n",
        "A *binary raster plot* represents spike times as `1`s in a binary grid initialized with `0`s. We start with a numpy array `raster` of zeros with shape `(neurons, time steps)`, and represent a spike from neuron `5` at time step `20` as `raster(5,20)=1`, for example.\n",
        "\n",
        "The *binary raster plot* is much more efficient than the previous method by plotting the numpy array `raster` as an image:\n",
        "\n",
        "```python\n",
        "plt.imshow(raster, cmap='Greys', origin='lower', aspect='auto')\n",
        "```\n",
        "\n",
        "**Suggestions**\n",
        "* At each time step:\n",
        "  * Initialize boolean numpy array `spiked` with $V_n(t)\\geq V_{th}$\n",
        "  * Set to `vr` indexes of `v_n` using `spiked`\n",
        "  * Set to `1` indexes of numpy array `raster` using `spiked`"
      ]
    },
    {
      "cell_type": "code",
      "execution_count": null,
      "metadata": {
        "execution": {},
        "id": "afQFVXeIi7GJ"
      },
      "outputs": [],
      "source": [
        "#################################################\n",
        "## TODO for students: make a raster ##\n",
        "# Fill out function and remove\n",
        "raise NotImplementedError(\"Student exercise: make a raster \")\n",
        "#################################################\n",
        "\n",
        "# Set random number generator\n",
        "np.random.seed(2020)\n",
        "\n",
        "# Initialize step_end, t_range, n, v_n and i\n",
        "t_range = np.arange(0, t_max, dt)\n",
        "step_end = len(t_range)\n",
        "n = 500\n",
        "v_n = el * np.ones([n, step_end])\n",
        "i = i_mean * (1 + 0.1 * (t_max / dt)**(0.5) * (2 * np.random.random([n, step_end]) - 1))\n",
        "\n",
        "# Initialize binary numpy array for raster plot\n",
        "raster = np.zeros([n,step_end])\n",
        "\n",
        "# Loop over time steps\n",
        "for step, t in enumerate(t_range):\n",
        "\n",
        "  # Skip first iteration\n",
        "  if step==0:\n",
        "    continue\n",
        "\n",
        "  # Compute v_n\n",
        "  v_n[:, step] = v_n[:, step - 1] + (dt / tau) * (el - v_n[:, step - 1] + r*i[:, step])\n",
        "\n",
        "  # Initialize boolean numpy array `spiked` with v_n > v_thr\n",
        "  spiked = (v_n[:,step] >= vth)\n",
        "\n",
        "  # Set relevant values of v_n to v_reset using spiked\n",
        "  v_n[spiked,step] = vr\n",
        "\n",
        "  # Set relevant elements in raster to 1 using spiked\n",
        "  raster[spiked,step] = ...\n",
        "\n",
        "# Plot multiple realizations of Vm, spikes and mean spike rate\n",
        "plot_all(t_range, v_n, raster)"
      ]
    },
    {
      "cell_type": "markdown",
      "metadata": {
        "execution": {},
        "id": "eiFvrsDWi7GL"
      },
      "source": [
        "[*Click for solution*](https://github.com/NeuromatchAcademy/precourse/tree/main//tutorials/W0D2_PythonWorkshop2/solutions/W0D2_Tutorial1_Solution_3973c4c4.py)\n",
        "\n",
        "*Example output:*\n",
        "\n",
        "<img alt='Solution hint' align='left' width=778.0 height=877.0 src=https://raw.githubusercontent.com/NeuromatchAcademy/precourse/main/tutorials/W0D2_PythonWorkshop2/static/W0D2_Tutorial1_Solution_3973c4c4_0.png>\n",
        "\n"
      ]
    },
    {
      "cell_type": "markdown",
      "metadata": {
        "execution": {},
        "id": "8Jmaqatii7GL"
      },
      "source": [
        "---\n",
        "# Section 4: Refractory period\n",
        "\n"
      ]
    },
    {
      "cell_type": "code",
      "execution_count": null,
      "metadata": {
        "cellView": "form",
        "execution": {},
        "id": "O8H6tShNi7GM"
      },
      "outputs": [],
      "source": [
        "# @title Video 7: Refractory period\n",
        "from ipywidgets import widgets\n",
        "\n",
        "out2 = widgets.Output()\n",
        "with out2:\n",
        "  from IPython.display import IFrame\n",
        "  class BiliVideo(IFrame):\n",
        "      def __init__(self, id, page=1, width=400, height=300, **kwargs):\n",
        "          self.id=id\n",
        "          src = 'https://player.bilibili.com/player.html?bvid={0}&page={1}'.format(id, page)\n",
        "          super(BiliVideo, self).__init__(src, width, height, **kwargs)\n",
        "\n",
        "  video = BiliVideo(id=\"BV1MT4y1E79j\", width=854, height=480, fs=1)\n",
        "  print('Video available at https://www.bilibili.com/video/{0}'.format(video.id))\n",
        "  display(video)\n",
        "\n",
        "out1 = widgets.Output()\n",
        "with out1:\n",
        "  from IPython.display import YouTubeVideo\n",
        "  video = YouTubeVideo(id=\"KVNdbRY5-nY\", width=854, height=480, fs=1, rel=0)\n",
        "  print('Video available at https://youtube.com/watch?v=' + video.id)\n",
        "  display(video)\n",
        "\n",
        "out = widgets.Tab([out1, out2])\n",
        "out.set_title(0, 'Youtube')\n",
        "out.set_title(1, 'Bilibili')\n",
        "\n",
        "display(out)"
      ]
    },
    {
      "cell_type": "markdown",
      "metadata": {
        "execution": {},
        "id": "ood2bGtqi7GN"
      },
      "source": [
        "The absolute refractory period is a time interval in the order of a few milliseconds during which synaptic input will not lead to a 2nd spike, no matter how strong. This effect is due to the biophysics of the neuron membrane channels, and you can read more about absolute and relative refractory period [here](https://content.byui.edu/file/a236934c-3c60-4fe9-90aa-d343b3e3a640/1/module5/readings/refractory_periods.html) and [here](https://en.wikipedia.org/wiki/Refractory_period_(physiology)).\n",
        "\n",
        "<figure>\n",
        "<img src=\"https://raw.githubusercontent.com/NeuromatchAcademy/precourse/main/tutorials/W0D2_PythonWorkshop2/static/refractory_period.png\">\n",
        "</figure>"
      ]
    },
    {
      "cell_type": "code",
      "execution_count": null,
      "metadata": {
        "cellView": "form",
        "execution": {},
        "id": "GrXOGcoNi7GO"
      },
      "outputs": [],
      "source": [
        "# @title Video 8: Nano recap of refractory period\n",
        "from ipywidgets import widgets\n",
        "\n",
        "out2 = widgets.Output()\n",
        "with out2:\n",
        "  from IPython.display import IFrame\n",
        "  class BiliVideo(IFrame):\n",
        "      def __init__(self, id, page=1, width=400, height=300, **kwargs):\n",
        "          self.id=id\n",
        "          src = 'https://player.bilibili.com/player.html?bvid={0}&page={1}'.format(id, page)\n",
        "          super(BiliVideo, self).__init__(src, width, height, **kwargs)\n",
        "\n",
        "  video = BiliVideo(id=\"BV1pA411e7je\", width=854, height=480, fs=1)\n",
        "  print('Video available at https://www.bilibili.com/video/{0}'.format(video.id))\n",
        "  display(video)\n",
        "\n",
        "out1 = widgets.Output()\n",
        "with out1:\n",
        "  from IPython.display import YouTubeVideo\n",
        "  video = YouTubeVideo(id=\"DOoftC0JU2k\", width=854, height=480, fs=1, rel=0)\n",
        "  print('Video available at https://youtube.com/watch?v=' + video.id)\n",
        "  display(video)\n",
        "\n",
        "out = widgets.Tab([out1, out2])\n",
        "out.set_title(0, 'Youtube')\n",
        "out.set_title(1, 'Bilibili')\n",
        "\n",
        "display(out)"
      ]
    },
    {
      "cell_type": "markdown",
      "metadata": {
        "execution": {},
        "id": "hnPg6Weki7GP"
      },
      "source": [
        "## Coding Exercise 5: Investigating refactory periods\n",
        "Investigate the effect of (absolute) refractory period $t_{ref}$ on the evolution of output rate $\\lambda(t)$. Add refractory period $t_{ref}=10$ ms after each spike, during which $V(t)$ is clamped to $V_{reset}$.\n",
        "\n",
        "\n"
      ]
    },
    {
      "cell_type": "code",
      "execution_count": null,
      "metadata": {
        "execution": {},
        "id": "MOjzoTwki7GR"
      },
      "outputs": [],
      "source": [
        "#################################################\n",
        "## TODO for students: add refactory period ##\n",
        "# Fill out function and remove\n",
        "raise NotImplementedError(\"Student exercise: add refactory period \")\n",
        "#################################################\n",
        "\n",
        "# Set random number generator\n",
        "np.random.seed(2020)\n",
        "\n",
        "# Initialize step_end, t_range, n, v_n and i\n",
        "t_range = np.arange(0, t_max, dt)\n",
        "step_end = len(t_range)\n",
        "n = 500\n",
        "v_n = el * np.ones([n, step_end])\n",
        "i = i_mean * (1 + 0.1 * (t_max / dt)**(0.5) * (2 * np.random.random([n, step_end]) - 1))\n",
        "\n",
        "# Initialize binary numpy array for raster plot\n",
        "raster = np.zeros([n,step_end])\n",
        "\n",
        "# Initialize t_ref and last_spike\n",
        "t_ref = 0.01\n",
        "last_spike = -t_ref * np.ones([n])\n",
        "\n",
        "# Loop over time steps\n",
        "for step, t in enumerate(t_range):\n",
        "\n",
        "  # Skip first iteration\n",
        "  if step == 0:\n",
        "    continue\n",
        "\n",
        "  # Compute v_n\n",
        "  v_n[:, step] = v_n[:, step - 1] + (dt / tau) * (el - v_n[:, step - 1] + r*i[:, step])\n",
        "\n",
        "  # Initialize boolean numpy array `spiked` with v_n > v_thr\n",
        "  spiked = (v_n[:,step] >= vth)\n",
        "\n",
        "  # Set relevant values of v_n to v_reset using spiked\n",
        "  v_n[spiked,step] = vr\n",
        "\n",
        "  # Set relevant elements in raster to 1 using spiked\n",
        "  raster[spiked,step] = 1.\n",
        "\n",
        "  # Initialize boolean numpy array clamped using last_spike, t and t_ref\n",
        "  clamped = ...\n",
        "\n",
        "  # Reset clamped neurons to vr using clamped\n",
        "  v_n[clamped,step] = ...\n",
        "\n",
        "  # Update numpy array last_spike with time t for spiking neurons\n",
        "  last_spike[spiked] = ...\n",
        "\n",
        "# Plot multiple realizations of Vm, spikes and mean spike rate\n",
        "plot_all(t_range, v_n, raster)"
      ]
    },
    {
      "cell_type": "markdown",
      "metadata": {
        "execution": {},
        "id": "Qhf_CLl6i7GS"
      },
      "source": [
        "[*Click for solution*](https://github.com/NeuromatchAcademy/precourse/tree/main//tutorials/W0D2_PythonWorkshop2/solutions/W0D2_Tutorial1_Solution_130ba4a4.py)\n",
        "\n",
        "*Example output:*\n",
        "\n",
        "<img alt='Solution hint' align='left' width=778.0 height=877.0 src=https://raw.githubusercontent.com/NeuromatchAcademy/precourse/main/tutorials/W0D2_PythonWorkshop2/static/W0D2_Tutorial1_Solution_130ba4a4_0.png>\n",
        "\n"
      ]
    },
    {
      "cell_type": "markdown",
      "metadata": {
        "execution": {},
        "id": "XK1QoYNai7GT"
      },
      "source": [
        "## Interactive Demo 1: Random refractory period\n",
        "In the following interactive demo, we will investigate the effect of random refractory periods. We will use random refactory periods $t_{ref}$ with \n",
        "$t_{ref} = \\mu + \\sigma\\,\\mathcal{N}$, where $\\mathcal{N}$ is the [normal distribution](https://en.wikipedia.org/wiki/Normal_distribution), $\\mu=0.01$ and $\\sigma=0.007$.\n",
        "\n",
        "Refractory period samples `t_ref` of size `n` is initialized with `np.random.normal`. We clip negative values to `0` with boolean indexes. (Why?) You can double click the cell to see the hidden code.\n",
        "\n",
        "You can play with the parameters mu and sigma and visualize the resulting simulation. \n",
        "What is the effect of different $\\sigma$ values?\n"
      ]
    },
    {
      "cell_type": "code",
      "execution_count": null,
      "metadata": {
        "cellView": "form",
        "execution": {},
        "id": "2YchfwcEi7GU"
      },
      "outputs": [],
      "source": [
        "# @markdown Execute this cell to enable the demo\n",
        "\n",
        "def random_ref_period(mu, sigma):\n",
        "  # set random number generator\n",
        "  np.random.seed(2020)\n",
        "\n",
        "  # initialize step_end, t_range, n, v_n, syn and raster\n",
        "  t_range = np.arange(0, t_max, dt)\n",
        "  step_end = len(t_range)\n",
        "  n = 500\n",
        "  v_n = el * np.ones([n,step_end])\n",
        "  syn = i_mean * (1 + 0.1*(t_max/dt)**(0.5)*(2*np.random.random([n,step_end])-1))\n",
        "  raster = np.zeros([n,step_end])\n",
        "\n",
        "  # initialize t_ref and last_spike\n",
        "  t_ref = mu + sigma*np.random.normal(size=n)\n",
        "  t_ref[t_ref<0] = 0\n",
        "  last_spike = -t_ref * np.ones([n])\n",
        "\n",
        "  # loop time steps\n",
        "  for step, t in enumerate(t_range):\n",
        "    if step==0:\n",
        "      continue\n",
        "\n",
        "    v_n[:,step] = v_n[:,step-1] + dt/tau * (el - v_n[:,step-1] + r*syn[:,step])\n",
        "\n",
        "    # boolean array spiked indexes neurons with v>=vth\n",
        "    spiked = (v_n[:,step] >= vth)\n",
        "    v_n[spiked,step] = vr\n",
        "    raster[spiked,step] = 1.\n",
        "\n",
        "    # boolean array clamped indexes refractory neurons\n",
        "    clamped = (last_spike + t_ref > t)\n",
        "    v_n[clamped,step] = vr\n",
        "    last_spike[spiked] = t\n",
        "\n",
        "  # plot multiple realizations of Vm, spikes and mean spike rate\n",
        "  plot_all(t_range, v_n, raster)\n",
        "\n",
        "  # plot histogram of t_ref\n",
        "  plt.figure(figsize=(8,4))\n",
        "  plt.hist(t_ref, bins=32, histtype='stepfilled', linewidth=0, color='C1')\n",
        "  plt.xlabel(r'$t_{ref}$ (s)')\n",
        "  plt.ylabel('count')\n",
        "  plt.tight_layout()\n",
        "\n",
        "_ = widgets.interact(random_ref_period, mu = (0.01, 0.05, 0.01), \\\n",
        "                              sigma = (0.001, 0.02, 0.001))"
      ]
    },
    {
      "cell_type": "markdown",
      "metadata": {
        "execution": {},
        "id": "H0pozf6ii7GU"
      },
      "source": [
        "---\n",
        "# Section 5: Using functions\n",
        "Running key parts of your code inside functions improves your coding narrative by making it clearer and more flexible to future changes."
      ]
    },
    {
      "cell_type": "code",
      "execution_count": null,
      "metadata": {
        "cellView": "form",
        "execution": {},
        "id": "Bqf6j4Wei7GV"
      },
      "outputs": [],
      "source": [
        "# @title Video 9: Functions\n",
        "from ipywidgets import widgets\n",
        "\n",
        "out2 = widgets.Output()\n",
        "with out2:\n",
        "  from IPython.display import IFrame\n",
        "  class BiliVideo(IFrame):\n",
        "      def __init__(self, id, page=1, width=400, height=300, **kwargs):\n",
        "          self.id=id\n",
        "          src = 'https://player.bilibili.com/player.html?bvid={0}&page={1}'.format(id, page)\n",
        "          super(BiliVideo, self).__init__(src, width, height, **kwargs)\n",
        "\n",
        "  video = BiliVideo(id=\"BV1sa4y1a7pq\", width=854, height=480, fs=1)\n",
        "  print('Video available at https://www.bilibili.com/video/{0}'.format(video.id))\n",
        "  display(video)\n",
        "\n",
        "out1 = widgets.Output()\n",
        "with out1:\n",
        "  from IPython.display import YouTubeVideo\n",
        "  video = YouTubeVideo(id=\"mkf8riqCjS4\", width=854, height=480, fs=1, rel=0)\n",
        "  print('Video available at https://youtube.com/watch?v=' + video.id)\n",
        "  display(video)\n",
        "\n",
        "out = widgets.Tab([out1, out2])\n",
        "out.set_title(0, 'Youtube')\n",
        "out.set_title(1, 'Bilibili')\n",
        "\n",
        "display(out)"
      ]
    },
    {
      "cell_type": "code",
      "execution_count": null,
      "metadata": {
        "cellView": "form",
        "execution": {},
        "id": "nXDa9ip-i7GV"
      },
      "outputs": [],
      "source": [
        "# @title Video 10: Nano recap of functions\n",
        "from ipywidgets import widgets\n",
        "\n",
        "out2 = widgets.Output()\n",
        "with out2:\n",
        "  from IPython.display import IFrame\n",
        "  class BiliVideo(IFrame):\n",
        "      def __init__(self, id, page=1, width=400, height=300, **kwargs):\n",
        "          self.id=id\n",
        "          src = 'https://player.bilibili.com/player.html?bvid={0}&page={1}'.format(id, page)\n",
        "          super(BiliVideo, self).__init__(src, width, height, **kwargs)\n",
        "\n",
        "  video = BiliVideo(id=\"BV1pz411v74H\", width=854, height=480, fs=1)\n",
        "  print('Video available at https://www.bilibili.com/video/{0}'.format(video.id))\n",
        "  display(video)\n",
        "\n",
        "out1 = widgets.Output()\n",
        "with out1:\n",
        "  from IPython.display import YouTubeVideo\n",
        "  video = YouTubeVideo(id=\"0An_NnVWY_Q\", width=854, height=480, fs=1, rel=0)\n",
        "  print('Video available at https://youtube.com/watch?v=' + video.id)\n",
        "  display(video)\n",
        "\n",
        "out = widgets.Tab([out1, out2])\n",
        "out.set_title(0, 'Youtube')\n",
        "out.set_title(1, 'Bilibili')\n",
        "\n",
        "display(out)"
      ]
    },
    {
      "cell_type": "markdown",
      "metadata": {
        "execution": {},
        "id": "12DuKIpNi7GW"
      },
      "source": [
        "## Coding Exercise 6: Rewriting code with functions\n",
        "We will now re-organize parts of the code from the previous exercise with functions. You need to complete the function `spike_clamp()` to update $V(t)$ and deal with spiking and refractoriness"
      ]
    },
    {
      "cell_type": "code",
      "execution_count": null,
      "metadata": {
        "execution": {},
        "id": "2Hs3IFpdi7GX"
      },
      "outputs": [],
      "source": [
        "def ode_step(v, i, dt):\n",
        "  \"\"\"\n",
        "  Evolves membrane potential by one step of discrete time integration\n",
        "\n",
        "  Args:\n",
        "    v (numpy array of floats)\n",
        "      membrane potential at previous time step of shape (neurons)\n",
        "\n",
        "    v (numpy array of floats)\n",
        "      synaptic input at current time step of shape (neurons)\n",
        "\n",
        "    dt (float)\n",
        "      time step increment\n",
        "\n",
        "  Returns:\n",
        "    v (numpy array of floats)\n",
        "      membrane potential at current time step of shape (neurons)\n",
        "  \"\"\"\n",
        "  v = v + dt/tau * (el - v + r*i)\n",
        "\n",
        "  return v\n",
        "\n",
        "def spike_clamp(v, delta_spike):\n",
        "  \"\"\"\n",
        "  Resets membrane potential of neurons if v>= vth\n",
        "  and clamps to vr if interval of time since last spike < t_ref\n",
        "\n",
        "  Args:\n",
        "    v (numpy array of floats)\n",
        "      membrane potential of shape (neurons)\n",
        "\n",
        "    delta_spike (numpy array of floats)\n",
        "      interval of time since last spike of shape (neurons)\n",
        "\n",
        "  Returns:\n",
        "    v (numpy array of floats)\n",
        "      membrane potential of shape (neurons)\n",
        "    spiked (numpy array of floats)\n",
        "      boolean array of neurons that spiked  of shape (neurons)\n",
        "  \"\"\"\n",
        "\n",
        "  ####################################################\n",
        "  ## TODO for students: complete spike_clamp\n",
        "  # Fill out function and remove\n",
        "  raise NotImplementedError(\"Student exercise: complete spike_clamp\")\n",
        "  ####################################################\n",
        "  # Boolean array spiked indexes neurons with v>=vth\n",
        "  spiked = ...\n",
        "  v[spiked] = ...\n",
        "\n",
        "  # Boolean array clamped indexes refractory neurons\n",
        "  clamped = ...\n",
        "  v[clamped] = ...\n",
        "\n",
        "  return v, spiked\n",
        "\n",
        "\n",
        "# Set random number generator\n",
        "np.random.seed(2020)\n",
        "\n",
        "# Initialize step_end, t_range, n, v_n and i\n",
        "t_range = np.arange(0, t_max, dt)\n",
        "step_end = len(t_range)\n",
        "n = 500\n",
        "v_n = el * np.ones([n, step_end])\n",
        "i = i_mean * (1 + 0.1 * (t_max / dt)**(0.5) * (2 * np.random.random([n, step_end]) - 1))\n",
        "\n",
        "# Initialize binary numpy array for raster plot\n",
        "raster = np.zeros([n,step_end])\n",
        "\n",
        "# Initialize t_ref and last_spike\n",
        "mu = 0.01\n",
        "sigma = 0.007\n",
        "t_ref = mu + sigma*np.random.normal(size=n)\n",
        "t_ref[t_ref<0] = 0\n",
        "last_spike = -t_ref * np.ones([n])\n",
        "\n",
        "# Loop over time steps\n",
        "for step, t in enumerate(t_range):\n",
        "\n",
        "  # Skip first iteration\n",
        "  if step==0:\n",
        "    continue\n",
        "\n",
        "  # Compute v_n\n",
        "  v_n[:,step] = ode_step(v_n[:,step-1], i[:,step], dt)\n",
        "\n",
        "  # Reset membrane potential and clamp\n",
        "  v_n[:,step], spiked = spike_clamp(v_n[:,step], t - last_spike)\n",
        "\n",
        "  # Update raster and last_spike\n",
        "  raster[spiked,step] = 1.\n",
        "  last_spike[spiked] = t\n",
        "\n",
        "# Plot multiple realizations of Vm, spikes and mean spike rate\n",
        "plot_all(t_range, v_n, raster)"
      ]
    },
    {
      "cell_type": "code",
      "execution_count": null,
      "metadata": {
        "execution": {},
        "id": "ftZwjeA4i7GY"
      },
      "outputs": [],
      "source": [
        "def ode_step(v, i, dt):\n",
        "  \"\"\"\n",
        "  Evolves membrane potential by one step of discrete time integration\n",
        "\n",
        "  Args:\n",
        "    v (numpy array of floats)\n",
        "      membrane potential at previous time step of shape (neurons)\n",
        "\n",
        "    v (numpy array of floats)\n",
        "      synaptic input at current time step of shape (neurons)\n",
        "\n",
        "    dt (float)\n",
        "      time step increment\n",
        "\n",
        "  Returns:\n",
        "    v (numpy array of floats)\n",
        "      membrane potential at current time step of shape (neurons)\n",
        "  \"\"\"\n",
        "  v = v + dt/tau * (el - v + r*i)\n",
        "\n",
        "  return v\n",
        "\n",
        "# to_remove solution\n",
        "def spike_clamp(v, delta_spike):\n",
        "  \"\"\"\n",
        "  Resets membrane potential of neurons if v>= vth\n",
        "  and clamps to vr if interval of time since last spike < t_ref\n",
        "\n",
        "  Args:\n",
        "    v (numpy array of floats)\n",
        "      membrane potential of shape (neurons)\n",
        "\n",
        "    delta_spike (numpy array of floats)\n",
        "      interval of time since last spike of shape (neurons)\n",
        "\n",
        "  Returns:\n",
        "    v (numpy array of floats)\n",
        "      membrane potential of shape (neurons)\n",
        "    spiked (numpy array of floats)\n",
        "      boolean array of neurons that spiked  of shape (neurons)\n",
        "  \"\"\"\n",
        "\n",
        "  # Boolean array spiked indexes neurons with v>=vth\n",
        "  spiked = (v >= vth)\n",
        "  v[spiked] = vr\n",
        "\n",
        "  # Boolean array clamped indexes refractory neurons\n",
        "  clamped = (t_ref > delta_spike)\n",
        "  v[clamped] = vr\n",
        "\n",
        "  return v, spiked\n",
        "\n",
        "\n",
        "# Set random number generator\n",
        "np.random.seed(2020)\n",
        "\n",
        "# Initialize step_end, t_range, n, v_n and i\n",
        "t_range = np.arange(0, t_max, dt)\n",
        "step_end = len(t_range)\n",
        "n = 500\n",
        "v_n = el * np.ones([n, step_end])\n",
        "i = i_mean * (1 + 0.1 * (t_max / dt)**(0.5) * (2 * np.random.random([n, step_end]) - 1))\n",
        "\n",
        "# Initialize binary numpy array for raster plot\n",
        "raster = np.zeros([n,step_end])\n",
        "\n",
        "# Initialize t_ref and last_spike\n",
        "mu = 0.01\n",
        "sigma = 0.007\n",
        "t_ref = mu + sigma*np.random.normal(size=n)\n",
        "t_ref[t_ref<0] = 0\n",
        "last_spike = -t_ref * np.ones([n])\n",
        "\n",
        "# Loop over time steps\n",
        "for step, t in enumerate(t_range):\n",
        "\n",
        "  # Skip first iteration\n",
        "  if step==0:\n",
        "    continue\n",
        "\n",
        "  # Compute v_n\n",
        "  v_n[:,step] = ode_step(v_n[:,step-1], i[:,step], dt)\n",
        "\n",
        "  # Reset membrane potential and clamp\n",
        "  v_n[:,step], spiked = spike_clamp(v_n[:,step], t - last_spike)\n",
        "\n",
        "  # Update raster and last_spike\n",
        "  raster[spiked,step] = 1.\n",
        "  last_spike[spiked] = t\n",
        "\n",
        "# Plot multiple realizations of Vm, spikes and mean spike rate\n",
        "with plt.xkcd():\n",
        "  plot_all(t_range, v_n, raster)"
      ]
    },
    {
      "cell_type": "markdown",
      "metadata": {
        "execution": {},
        "id": "XbyF_k64i7GZ"
      },
      "source": [
        "---\n",
        "# Section 6: Using classes\n"
      ]
    },
    {
      "cell_type": "code",
      "execution_count": null,
      "metadata": {
        "cellView": "form",
        "execution": {},
        "id": "7LOFbtyIi7GZ"
      },
      "outputs": [],
      "source": [
        "# @title Video 11: Classes\n",
        "from ipywidgets import widgets\n",
        "\n",
        "out2 = widgets.Output()\n",
        "with out2:\n",
        "  from IPython.display import IFrame\n",
        "  class BiliVideo(IFrame):\n",
        "      def __init__(self, id, page=1, width=400, height=300, **kwargs):\n",
        "          self.id=id\n",
        "          src = 'https://player.bilibili.com/player.html?bvid={0}&page={1}'.format(id, page)\n",
        "          super(BiliVideo, self).__init__(src, width, height, **kwargs)\n",
        "\n",
        "  video = BiliVideo(id=\"BV1hz411v7ne\", width=854, height=480, fs=1)\n",
        "  print('Video available at https://www.bilibili.com/video/{0}'.format(video.id))\n",
        "  display(video)\n",
        "\n",
        "out1 = widgets.Output()\n",
        "with out1:\n",
        "  from IPython.display import YouTubeVideo\n",
        "  video = YouTubeVideo(id=\"dGRESMoNPh0\", width=854, height=480, fs=1, rel=0)\n",
        "  print('Video available at https://youtube.com/watch?v=' + video.id)\n",
        "  display(video)\n",
        "\n",
        "out = widgets.Tab([out1, out2])\n",
        "out.set_title(0, 'Youtube')\n",
        "out.set_title(1, 'Bilibili')\n",
        "\n",
        "display(out)"
      ]
    },
    {
      "cell_type": "markdown",
      "metadata": {
        "execution": {},
        "id": "_eXAqJIMi7GZ"
      },
      "source": [
        "Using classes helps with code reuse and reliability. Well-designed classes are like black boxes in that they receive inputs and provide expected outputs. The details of how the class processes inputs and produces outputs are unimportant.\n",
        "\n",
        "See additional details here: [A Beginner's Python Tutorial/Classes](https://en.wikibooks.org/wiki/A_Beginner%27s_Python_Tutorial/Classes)\n",
        "\n",
        "*Attributes* are variables internal to the class, and *methods* are functions internal to the class."
      ]
    },
    {
      "cell_type": "code",
      "execution_count": null,
      "metadata": {
        "cellView": "form",
        "execution": {},
        "id": "fB35I-KUi7Ga"
      },
      "outputs": [],
      "source": [
        "# @title Video 12: Nano recap of classes\n",
        "from ipywidgets import widgets\n",
        "\n",
        "out2 = widgets.Output()\n",
        "with out2:\n",
        "  from IPython.display import IFrame\n",
        "  class BiliVideo(IFrame):\n",
        "      def __init__(self, id, page=1, width=400, height=300, **kwargs):\n",
        "          self.id=id\n",
        "          src = 'https://player.bilibili.com/player.html?bvid={0}&page={1}'.format(id, page)\n",
        "          super(BiliVideo, self).__init__(src, width, height, **kwargs)\n",
        "\n",
        "  video = BiliVideo(id=\"BV12V41167yu\", width=854, height=480, fs=1)\n",
        "  print('Video available at https://www.bilibili.com/video/{0}'.format(video.id))\n",
        "  display(video)\n",
        "\n",
        "out1 = widgets.Output()\n",
        "with out1:\n",
        "  from IPython.display import YouTubeVideo\n",
        "  video = YouTubeVideo(id=\"4YNpMpVW2qs\", width=854, height=480, fs=1, rel=0)\n",
        "  print('Video available at https://youtube.com/watch?v=' + video.id)\n",
        "  display(video)\n",
        "\n",
        "out = widgets.Tab([out1, out2])\n",
        "out.set_title(0, 'Youtube')\n",
        "out.set_title(1, 'Bilibili')\n",
        "\n",
        "display(out)"
      ]
    },
    {
      "cell_type": "markdown",
      "metadata": {
        "execution": {},
        "id": "sg365H4ki7Ga"
      },
      "source": [
        "## Coding Exercise 7: Making a LIF class\n",
        "In this exercise we'll practice with Python classes by implementing `LIFNeurons`, a class that evolves and keeps state of multiple realizations of LIF neurons.\n",
        "\n",
        "Several attributes are used to keep state of our neurons:\n",
        "\n",
        "```python\n",
        "self.v             current membrane potential\n",
        "self.spiked        neurons that spiked\n",
        "self.last_spike    last spike time of each neuron\n",
        "self.t             running time of the simulation\n",
        "self.steps         simulation step\n",
        "```\n",
        "\n",
        "There is a single method:\n",
        "\n",
        "```python\n",
        "self.ode_step()    performs single step discrete time integration\n",
        "                   for provided synaptic current and dt\n",
        "```\n",
        "\n",
        "Complete the spike and clamp part of method `self.ode_step` (should be similar to function `spike_and_clamp` seen before)."
      ]
    },
    {
      "cell_type": "code",
      "execution_count": null,
      "metadata": {
        "execution": {},
        "id": "C7XmbvwZi7Gb"
      },
      "outputs": [],
      "source": [
        "# Simulation class\n",
        "class LIFNeurons:\n",
        "  \"\"\"\n",
        "  Keeps track of membrane potential for multiple realizations of LIF neuron,\n",
        "  and performs single step discrete time integration.\n",
        "  \"\"\"\n",
        "  def __init__(self, n, t_ref_mu=0.01, t_ref_sigma=0.002,\n",
        "               tau=20e-3, el=-60e-3, vr=-70e-3, vth=-50e-3, r=100e6):\n",
        "\n",
        "    # Neuron count\n",
        "    self.n = n\n",
        "\n",
        "    # Neuron parameters\n",
        "    self.tau = tau        # second\n",
        "    self.el = el          # milivolt\n",
        "    self.vr = vr          # milivolt\n",
        "    self.vth = vth        # milivolt\n",
        "    self.r = r            # ohm\n",
        "\n",
        "    # Initializes refractory period distribution\n",
        "    self.t_ref_mu = t_ref_mu\n",
        "    self.t_ref_sigma = t_ref_sigma\n",
        "    self.t_ref = self.t_ref_mu + self.t_ref_sigma * np.random.normal(size=self.n)\n",
        "    self.t_ref[self.t_ref<0] = 0\n",
        "\n",
        "    # State variables\n",
        "    self.v = self.el * np.ones(self.n)\n",
        "    self.spiked = self.v >= self.vth\n",
        "    self.last_spike = -self.t_ref * np.ones([self.n])\n",
        "    self.t = 0.\n",
        "    self.steps = 0\n",
        "\n",
        "\n",
        "  def ode_step(self, dt, i):\n",
        "\n",
        "    # Update running time and steps\n",
        "    self.t += dt\n",
        "    self.steps += 1\n",
        "\n",
        "    # One step of discrete time integration of dt\n",
        "    self.v = self.v + dt / self.tau * (self.el - self.v + self.r * i)\n",
        "\n",
        "    ####################################################\n",
        "    ## TODO for students: complete the `ode_step` method\n",
        "    # Fill out function and remove\n",
        "    raise NotImplementedError(\"Student exercise: complete the ode_step method\")\n",
        "    ####################################################\n",
        "\n",
        "    # Spike and clamp\n",
        "    self.spiked = ...\n",
        "    self.v[self.spiked] = ...\n",
        "    self.last_spike[self.spiked] = ...\n",
        "    clamped = ...\n",
        "    self.v[clamped] = ...\n",
        "\n",
        "    self.last_spike[self.spiked] = ...\n",
        "\n",
        "# Set random number generator\n",
        "np.random.seed(2020)\n",
        "\n",
        "# Initialize step_end, t_range, n, v_n and i\n",
        "t_range = np.arange(0, t_max, dt)\n",
        "step_end = len(t_range)\n",
        "n = 500\n",
        "v_n = el * np.ones([n, step_end])\n",
        "i = i_mean * (1 + 0.1 * (t_max / dt)**(0.5) * (2 * np.random.random([n, step_end]) - 1))\n",
        "\n",
        "# Initialize binary numpy array for raster plot\n",
        "raster = np.zeros([n,step_end])\n",
        "\n",
        "# Initialize neurons\n",
        "neurons = LIFNeurons(n)\n",
        "\n",
        "# Loop over time steps\n",
        "for step, t in enumerate(t_range):\n",
        "\n",
        "  # Call ode_step method\n",
        "  neurons.ode_step(dt, i[:,step])\n",
        "\n",
        "  # Log v_n and spike history\n",
        "  v_n[:,step] = neurons.v\n",
        "  raster[neurons.spiked, step] = 1.\n",
        "\n",
        "# Report running time and steps\n",
        "print(f'Ran for {neurons.t:.3}s in {neurons.steps} steps.')\n",
        "\n",
        "# Plot multiple realizations of Vm, spikes and mean spike rate\n",
        "plot_all(t_range, v_n, raster)"
      ]
    },
    {
      "cell_type": "markdown",
      "metadata": {
        "execution": {},
        "id": "wRjGTLFai7Gd"
      },
      "source": [
        "[*Click for solution*](https://github.com/NeuromatchAcademy/precourse/tree/main//tutorials/W0D2_PythonWorkshop2/solutions/W0D2_Tutorial1_Solution_a22fdac7.py)\n",
        "\n",
        "*Example output:*\n",
        "\n",
        "<img alt='Solution hint' align='left' width=778.0 height=878.0 src=https://raw.githubusercontent.com/NeuromatchAcademy/precourse/main/tutorials/W0D2_PythonWorkshop2/static/W0D2_Tutorial1_Solution_a22fdac7_1.png>\n",
        "\n"
      ]
    },
    {
      "cell_type": "markdown",
      "metadata": {
        "execution": {},
        "id": "LyQUa8nsi7Ge"
      },
      "source": [
        "---\n",
        "# Summary\n"
      ]
    },
    {
      "cell_type": "code",
      "execution_count": null,
      "metadata": {
        "cellView": "form",
        "execution": {},
        "id": "-TaBO5Kbi7Ge"
      },
      "outputs": [],
      "source": [
        "# @title Video 12: Last concepts & recap\n",
        "from ipywidgets import widgets\n",
        "\n",
        "out2 = widgets.Output()\n",
        "with out2:\n",
        "  from IPython.display import IFrame\n",
        "  class BiliVideo(IFrame):\n",
        "      def __init__(self, id, page=1, width=400, height=300, **kwargs):\n",
        "          self.id=id\n",
        "          src = 'https://player.bilibili.com/player.html?bvid={0}&page={1}'.format(id, page)\n",
        "          super(BiliVideo, self).__init__(src, width, height, **kwargs)\n",
        "\n",
        "  video = BiliVideo(id=\"BV1MC4y1h7eA\", width=854, height=480, fs=1)\n",
        "  print('Video available at https://www.bilibili.com/video/{0}'.format(video.id))\n",
        "  display(video)\n",
        "\n",
        "out1 = widgets.Output()\n",
        "with out1:\n",
        "  from IPython.display import YouTubeVideo\n",
        "  video = YouTubeVideo(id=\"h4mSJBPocPo\", width=854, height=480, fs=1, rel=0)\n",
        "  print('Video available at https://youtube.com/watch?v=' + video.id)\n",
        "  display(video)\n",
        "\n",
        "out = widgets.Tab([out1, out2])\n",
        "out.set_title(0, 'Youtube')\n",
        "out.set_title(1, 'Bilibili')\n",
        "\n",
        "display(out)"
      ]
    }
  ],
  "metadata": {
    "colab": {
      "collapsed_sections": [],
      "name": "lif_tut2",
      "provenance": [],
      "toc_visible": true,
      "include_colab_link": true
    },
    "kernel": {
      "display_name": "Python 3",
      "language": "python",
      "name": "python3"
    },
    "kernelspec": {
      "display_name": "Python 3",
      "language": "python",
      "name": "python3"
    },
    "language_info": {
      "codemirror_mode": {
        "name": "ipython",
        "version": 3
      },
      "file_extension": ".py",
      "mimetype": "text/x-python",
      "name": "python",
      "nbconvert_exporter": "python",
      "pygments_lexer": "ipython3",
      "version": "3.7.13"
    },
    "widgets": {
      "application/vnd.jupyter.widget-state+json": {
        "0b87093c17b747c8bc2fa99527c513da": {
          "model_module": "@jupyter-widgets/controls",
          "model_name": "TabModel",
          "model_module_version": "1.5.0",
          "state": {
            "_dom_classes": [],
            "_model_module": "@jupyter-widgets/controls",
            "_model_module_version": "1.5.0",
            "_model_name": "TabModel",
            "_titles": {
              "0": "Youtube",
              "1": "Bilibili"
            },
            "_view_count": null,
            "_view_module": "@jupyter-widgets/controls",
            "_view_module_version": "1.5.0",
            "_view_name": "TabView",
            "box_style": "",
            "children": [
              "IPY_MODEL_78266ee8cb894207a1d4471703d89cb5",
              "IPY_MODEL_fc385ece3fec4ee49309022d14f3910f"
            ],
            "layout": "IPY_MODEL_fcd443ebf6ed47fba78a4a7616f7825c",
            "selected_index": 0
          }
        },
        "78266ee8cb894207a1d4471703d89cb5": {
          "model_module": "@jupyter-widgets/output",
          "model_name": "OutputModel",
          "model_module_version": "1.0.0",
          "state": {
            "_dom_classes": [],
            "_model_module": "@jupyter-widgets/output",
            "_model_module_version": "1.0.0",
            "_model_name": "OutputModel",
            "_view_count": null,
            "_view_module": "@jupyter-widgets/output",
            "_view_module_version": "1.0.0",
            "_view_name": "OutputView",
            "layout": "IPY_MODEL_6f097e2cb0a34634995945891a087ba5",
            "msg_id": "",
            "outputs": [
              {
                "output_type": "stream",
                "name": "stdout",
                "text": [
                  "Video available at https://youtube.com/watch?v=J24tne-IwvY\n"
                ]
              },
              {
                "output_type": "display_data",
                "data": {
                  "text/plain": "<IPython.lib.display.YouTubeVideo at 0x7f1f4f5bbbd0>",
                  "text/html": "\n        <iframe\n            width=\"854\"\n            height=\"480\"\n            src=\"https://www.youtube.com/embed/J24tne-IwvY?fs=1&rel=0\"\n            frameborder=\"0\"\n            allowfullscreen\n        ></iframe>\n        ",
                  "image/jpeg": "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\n"
                },
                "metadata": {}
              }
            ]
          }
        },
        "fc385ece3fec4ee49309022d14f3910f": {
          "model_module": "@jupyter-widgets/output",
          "model_name": "OutputModel",
          "model_module_version": "1.0.0",
          "state": {
            "_dom_classes": [],
            "_model_module": "@jupyter-widgets/output",
            "_model_module_version": "1.0.0",
            "_model_name": "OutputModel",
            "_view_count": null,
            "_view_module": "@jupyter-widgets/output",
            "_view_module_version": "1.0.0",
            "_view_name": "OutputView",
            "layout": "IPY_MODEL_9a6268af4c8341ae80fcf5a1fc773720",
            "msg_id": "",
            "outputs": [
              {
                "output_type": "stream",
                "name": "stdout",
                "text": [
                  "Video available at https://www.bilibili.com/video/BV1GC4y1h7Ex\n"
                ]
              },
              {
                "output_type": "display_data",
                "data": {
                  "text/plain": "<__main__.BiliVideo at 0x7f1f4f5bbc10>",
                  "text/html": "\n        <iframe\n            width=\"854\"\n            height=\"480\"\n            src=\"https://player.bilibili.com/player.html?bvid=BV1GC4y1h7Ex&page=1?fs=1\"\n            frameborder=\"0\"\n            allowfullscreen\n        ></iframe>\n        "
                },
                "metadata": {}
              }
            ]
          }
        },
        "fcd443ebf6ed47fba78a4a7616f7825c": {
          "model_module": "@jupyter-widgets/base",
          "model_name": "LayoutModel",
          "model_module_version": "1.2.0",
          "state": {
            "_model_module": "@jupyter-widgets/base",
            "_model_module_version": "1.2.0",
            "_model_name": "LayoutModel",
            "_view_count": null,
            "_view_module": "@jupyter-widgets/base",
            "_view_module_version": "1.2.0",
            "_view_name": "LayoutView",
            "align_content": null,
            "align_items": null,
            "align_self": null,
            "border": null,
            "bottom": null,
            "display": null,
            "flex": null,
            "flex_flow": null,
            "grid_area": null,
            "grid_auto_columns": null,
            "grid_auto_flow": null,
            "grid_auto_rows": null,
            "grid_column": null,
            "grid_gap": null,
            "grid_row": null,
            "grid_template_areas": null,
            "grid_template_columns": null,
            "grid_template_rows": null,
            "height": null,
            "justify_content": null,
            "justify_items": null,
            "left": null,
            "margin": null,
            "max_height": null,
            "max_width": null,
            "min_height": null,
            "min_width": null,
            "object_fit": null,
            "object_position": null,
            "order": null,
            "overflow": null,
            "overflow_x": null,
            "overflow_y": null,
            "padding": null,
            "right": null,
            "top": null,
            "visibility": null,
            "width": null
          }
        },
        "6f097e2cb0a34634995945891a087ba5": {
          "model_module": "@jupyter-widgets/base",
          "model_name": "LayoutModel",
          "model_module_version": "1.2.0",
          "state": {
            "_model_module": "@jupyter-widgets/base",
            "_model_module_version": "1.2.0",
            "_model_name": "LayoutModel",
            "_view_count": null,
            "_view_module": "@jupyter-widgets/base",
            "_view_module_version": "1.2.0",
            "_view_name": "LayoutView",
            "align_content": null,
            "align_items": null,
            "align_self": null,
            "border": null,
            "bottom": null,
            "display": null,
            "flex": null,
            "flex_flow": null,
            "grid_area": null,
            "grid_auto_columns": null,
            "grid_auto_flow": null,
            "grid_auto_rows": null,
            "grid_column": null,
            "grid_gap": null,
            "grid_row": null,
            "grid_template_areas": null,
            "grid_template_columns": null,
            "grid_template_rows": null,
            "height": null,
            "justify_content": null,
            "justify_items": null,
            "left": null,
            "margin": null,
            "max_height": null,
            "max_width": null,
            "min_height": null,
            "min_width": null,
            "object_fit": null,
            "object_position": null,
            "order": null,
            "overflow": null,
            "overflow_x": null,
            "overflow_y": null,
            "padding": null,
            "right": null,
            "top": null,
            "visibility": null,
            "width": null
          }
        },
        "9a6268af4c8341ae80fcf5a1fc773720": {
          "model_module": "@jupyter-widgets/base",
          "model_name": "LayoutModel",
          "model_module_version": "1.2.0",
          "state": {
            "_model_module": "@jupyter-widgets/base",
            "_model_module_version": "1.2.0",
            "_model_name": "LayoutModel",
            "_view_count": null,
            "_view_module": "@jupyter-widgets/base",
            "_view_module_version": "1.2.0",
            "_view_name": "LayoutView",
            "align_content": null,
            "align_items": null,
            "align_self": null,
            "border": null,
            "bottom": null,
            "display": null,
            "flex": null,
            "flex_flow": null,
            "grid_area": null,
            "grid_auto_columns": null,
            "grid_auto_flow": null,
            "grid_auto_rows": null,
            "grid_column": null,
            "grid_gap": null,
            "grid_row": null,
            "grid_template_areas": null,
            "grid_template_columns": null,
            "grid_template_rows": null,
            "height": null,
            "justify_content": null,
            "justify_items": null,
            "left": null,
            "margin": null,
            "max_height": null,
            "max_width": null,
            "min_height": null,
            "min_width": null,
            "object_fit": null,
            "object_position": null,
            "order": null,
            "overflow": null,
            "overflow_x": null,
            "overflow_y": null,
            "padding": null,
            "right": null,
            "top": null,
            "visibility": null,
            "width": null
          }
        },
        "eaae62a20e1e4ac0b535d6c8bab9d5a3": {
          "model_module": "@jupyter-widgets/controls",
          "model_name": "TabModel",
          "model_module_version": "1.5.0",
          "state": {
            "_dom_classes": [],
            "_model_module": "@jupyter-widgets/controls",
            "_model_module_version": "1.5.0",
            "_model_name": "TabModel",
            "_titles": {
              "0": "Youtube",
              "1": "Bilibili"
            },
            "_view_count": null,
            "_view_module": "@jupyter-widgets/controls",
            "_view_module_version": "1.5.0",
            "_view_name": "TabView",
            "box_style": "",
            "children": [
              "IPY_MODEL_2fc927fb345845468e160174e641095e",
              "IPY_MODEL_d49e80ae33264db6bbfaf5b512025ccf"
            ],
            "layout": "IPY_MODEL_04647c445a174af1a18cfb7b2d2b7880",
            "selected_index": 0
          }
        },
        "2fc927fb345845468e160174e641095e": {
          "model_module": "@jupyter-widgets/output",
          "model_name": "OutputModel",
          "model_module_version": "1.0.0",
          "state": {
            "_dom_classes": [],
            "_model_module": "@jupyter-widgets/output",
            "_model_module_version": "1.0.0",
            "_model_name": "OutputModel",
            "_view_count": null,
            "_view_module": "@jupyter-widgets/output",
            "_view_module_version": "1.0.0",
            "_view_name": "OutputView",
            "layout": "IPY_MODEL_7b6eb562b8644ddebb91ff7f767327ff",
            "msg_id": "",
            "outputs": [
              {
                "output_type": "stream",
                "name": "stdout",
                "text": [
                  "Video available at https://youtube.com/watch?v=71f1J98zj80\n"
                ]
              },
              {
                "output_type": "display_data",
                "data": {
                  "text/plain": "<IPython.lib.display.YouTubeVideo at 0x7f1f4b708ed0>",
                  "text/html": "\n        <iframe\n            width=\"854\"\n            height=\"480\"\n            src=\"https://www.youtube.com/embed/71f1J98zj80?fs=1&rel=0\"\n            frameborder=\"0\"\n            allowfullscreen\n        ></iframe>\n        ",
                  "image/jpeg": "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\n"
                },
                "metadata": {}
              }
            ]
          }
        },
        "d49e80ae33264db6bbfaf5b512025ccf": {
          "model_module": "@jupyter-widgets/output",
          "model_name": "OutputModel",
          "model_module_version": "1.0.0",
          "state": {
            "_dom_classes": [],
            "_model_module": "@jupyter-widgets/output",
            "_model_module_version": "1.0.0",
            "_model_name": "OutputModel",
            "_view_count": null,
            "_view_module": "@jupyter-widgets/output",
            "_view_module_version": "1.0.0",
            "_view_name": "OutputView",
            "layout": "IPY_MODEL_87aaf4cc260a4255aae6cede759b0c0d",
            "msg_id": "",
            "outputs": [
              {
                "output_type": "stream",
                "name": "stdout",
                "text": [
                  "Video available at https://www.bilibili.com/video/BV1Zv411B7mD\n"
                ]
              },
              {
                "output_type": "display_data",
                "data": {
                  "text/plain": "<__main__.BiliVideo at 0x7f1f4b708bd0>",
                  "text/html": "\n        <iframe\n            width=\"854\"\n            height=\"480\"\n            src=\"https://player.bilibili.com/player.html?bvid=BV1Zv411B7mD&page=1?fs=1\"\n            frameborder=\"0\"\n            allowfullscreen\n        ></iframe>\n        "
                },
                "metadata": {}
              }
            ]
          }
        },
        "04647c445a174af1a18cfb7b2d2b7880": {
          "model_module": "@jupyter-widgets/base",
          "model_name": "LayoutModel",
          "model_module_version": "1.2.0",
          "state": {
            "_model_module": "@jupyter-widgets/base",
            "_model_module_version": "1.2.0",
            "_model_name": "LayoutModel",
            "_view_count": null,
            "_view_module": "@jupyter-widgets/base",
            "_view_module_version": "1.2.0",
            "_view_name": "LayoutView",
            "align_content": null,
            "align_items": null,
            "align_self": null,
            "border": null,
            "bottom": null,
            "display": null,
            "flex": null,
            "flex_flow": null,
            "grid_area": null,
            "grid_auto_columns": null,
            "grid_auto_flow": null,
            "grid_auto_rows": null,
            "grid_column": null,
            "grid_gap": null,
            "grid_row": null,
            "grid_template_areas": null,
            "grid_template_columns": null,
            "grid_template_rows": null,
            "height": null,
            "justify_content": null,
            "justify_items": null,
            "left": null,
            "margin": null,
            "max_height": null,
            "max_width": null,
            "min_height": null,
            "min_width": null,
            "object_fit": null,
            "object_position": null,
            "order": null,
            "overflow": null,
            "overflow_x": null,
            "overflow_y": null,
            "padding": null,
            "right": null,
            "top": null,
            "visibility": null,
            "width": null
          }
        },
        "7b6eb562b8644ddebb91ff7f767327ff": {
          "model_module": "@jupyter-widgets/base",
          "model_name": "LayoutModel",
          "model_module_version": "1.2.0",
          "state": {
            "_model_module": "@jupyter-widgets/base",
            "_model_module_version": "1.2.0",
            "_model_name": "LayoutModel",
            "_view_count": null,
            "_view_module": "@jupyter-widgets/base",
            "_view_module_version": "1.2.0",
            "_view_name": "LayoutView",
            "align_content": null,
            "align_items": null,
            "align_self": null,
            "border": null,
            "bottom": null,
            "display": null,
            "flex": null,
            "flex_flow": null,
            "grid_area": null,
            "grid_auto_columns": null,
            "grid_auto_flow": null,
            "grid_auto_rows": null,
            "grid_column": null,
            "grid_gap": null,
            "grid_row": null,
            "grid_template_areas": null,
            "grid_template_columns": null,
            "grid_template_rows": null,
            "height": null,
            "justify_content": null,
            "justify_items": null,
            "left": null,
            "margin": null,
            "max_height": null,
            "max_width": null,
            "min_height": null,
            "min_width": null,
            "object_fit": null,
            "object_position": null,
            "order": null,
            "overflow": null,
            "overflow_x": null,
            "overflow_y": null,
            "padding": null,
            "right": null,
            "top": null,
            "visibility": null,
            "width": null
          }
        },
        "87aaf4cc260a4255aae6cede759b0c0d": {
          "model_module": "@jupyter-widgets/base",
          "model_name": "LayoutModel",
          "model_module_version": "1.2.0",
          "state": {
            "_model_module": "@jupyter-widgets/base",
            "_model_module_version": "1.2.0",
            "_model_name": "LayoutModel",
            "_view_count": null,
            "_view_module": "@jupyter-widgets/base",
            "_view_module_version": "1.2.0",
            "_view_name": "LayoutView",
            "align_content": null,
            "align_items": null,
            "align_self": null,
            "border": null,
            "bottom": null,
            "display": null,
            "flex": null,
            "flex_flow": null,
            "grid_area": null,
            "grid_auto_columns": null,
            "grid_auto_flow": null,
            "grid_auto_rows": null,
            "grid_column": null,
            "grid_gap": null,
            "grid_row": null,
            "grid_template_areas": null,
            "grid_template_columns": null,
            "grid_template_rows": null,
            "height": null,
            "justify_content": null,
            "justify_items": null,
            "left": null,
            "margin": null,
            "max_height": null,
            "max_width": null,
            "min_height": null,
            "min_width": null,
            "object_fit": null,
            "object_position": null,
            "order": null,
            "overflow": null,
            "overflow_x": null,
            "overflow_y": null,
            "padding": null,
            "right": null,
            "top": null,
            "visibility": null,
            "width": null
          }
        },
        "7dab7ec4271c4b74b94d93ed49d1f562": {
          "model_module": "@jupyter-widgets/controls",
          "model_name": "TabModel",
          "model_module_version": "1.5.0",
          "state": {
            "_dom_classes": [],
            "_model_module": "@jupyter-widgets/controls",
            "_model_module_version": "1.5.0",
            "_model_name": "TabModel",
            "_titles": {
              "0": "Youtube",
              "1": "Bilibili"
            },
            "_view_count": null,
            "_view_module": "@jupyter-widgets/controls",
            "_view_module_version": "1.5.0",
            "_view_name": "TabView",
            "box_style": "",
            "children": [
              "IPY_MODEL_31aa9ed119aa47bda85c65bc179dfe70",
              "IPY_MODEL_ef70e88d71ec4d31a418846cafcb000c"
            ],
            "layout": "IPY_MODEL_8bd4e0762348414c953d35cf80107506",
            "selected_index": 0
          }
        },
        "31aa9ed119aa47bda85c65bc179dfe70": {
          "model_module": "@jupyter-widgets/output",
          "model_name": "OutputModel",
          "model_module_version": "1.0.0",
          "state": {
            "_dom_classes": [],
            "_model_module": "@jupyter-widgets/output",
            "_model_module_version": "1.0.0",
            "_model_name": "OutputModel",
            "_view_count": null,
            "_view_module": "@jupyter-widgets/output",
            "_view_module_version": "1.0.0",
            "_view_name": "OutputView",
            "layout": "IPY_MODEL_0b1cb5d8ec954486b6b5da2f833efc2d",
            "msg_id": "",
            "outputs": [
              {
                "output_type": "stream",
                "name": "stdout",
                "text": [
                  "Video available at https://youtube.com/watch?v=ioKkiukDkNg\n"
                ]
              },
              {
                "output_type": "display_data",
                "data": {
                  "text/plain": "<IPython.lib.display.YouTubeVideo at 0x7f1f4100f450>",
                  "text/html": "\n        <iframe\n            width=\"854\"\n            height=\"480\"\n            src=\"https://www.youtube.com/embed/ioKkiukDkNg?fs=1&rel=0\"\n            frameborder=\"0\"\n            allowfullscreen\n        ></iframe>\n        ",
                  "image/jpeg": "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\n"
                },
                "metadata": {}
              }
            ]
          }
        },
        "ef70e88d71ec4d31a418846cafcb000c": {
          "model_module": "@jupyter-widgets/output",
          "model_name": "OutputModel",
          "model_module_version": "1.0.0",
          "state": {
            "_dom_classes": [],
            "_model_module": "@jupyter-widgets/output",
            "_model_module_version": "1.0.0",
            "_model_name": "OutputModel",
            "_view_count": null,
            "_view_module": "@jupyter-widgets/output",
            "_view_module_version": "1.0.0",
            "_view_name": "OutputView",
            "layout": "IPY_MODEL_4f17a9e640f14d1a81238766adb2197c",
            "msg_id": "",
            "outputs": [
              {
                "output_type": "stream",
                "name": "stdout",
                "text": [
                  "Video available at https://www.bilibili.com/video/BV1H54y1q7oS\n"
                ]
              },
              {
                "output_type": "display_data",
                "data": {
                  "text/plain": "<__main__.BiliVideo at 0x7f1f4100f350>",
                  "text/html": "\n        <iframe\n            width=\"854\"\n            height=\"480\"\n            src=\"https://player.bilibili.com/player.html?bvid=BV1H54y1q7oS&page=1?fs=1\"\n            frameborder=\"0\"\n            allowfullscreen\n        ></iframe>\n        "
                },
                "metadata": {}
              }
            ]
          }
        },
        "8bd4e0762348414c953d35cf80107506": {
          "model_module": "@jupyter-widgets/base",
          "model_name": "LayoutModel",
          "model_module_version": "1.2.0",
          "state": {
            "_model_module": "@jupyter-widgets/base",
            "_model_module_version": "1.2.0",
            "_model_name": "LayoutModel",
            "_view_count": null,
            "_view_module": "@jupyter-widgets/base",
            "_view_module_version": "1.2.0",
            "_view_name": "LayoutView",
            "align_content": null,
            "align_items": null,
            "align_self": null,
            "border": null,
            "bottom": null,
            "display": null,
            "flex": null,
            "flex_flow": null,
            "grid_area": null,
            "grid_auto_columns": null,
            "grid_auto_flow": null,
            "grid_auto_rows": null,
            "grid_column": null,
            "grid_gap": null,
            "grid_row": null,
            "grid_template_areas": null,
            "grid_template_columns": null,
            "grid_template_rows": null,
            "height": null,
            "justify_content": null,
            "justify_items": null,
            "left": null,
            "margin": null,
            "max_height": null,
            "max_width": null,
            "min_height": null,
            "min_width": null,
            "object_fit": null,
            "object_position": null,
            "order": null,
            "overflow": null,
            "overflow_x": null,
            "overflow_y": null,
            "padding": null,
            "right": null,
            "top": null,
            "visibility": null,
            "width": null
          }
        },
        "0b1cb5d8ec954486b6b5da2f833efc2d": {
          "model_module": "@jupyter-widgets/base",
          "model_name": "LayoutModel",
          "model_module_version": "1.2.0",
          "state": {
            "_model_module": "@jupyter-widgets/base",
            "_model_module_version": "1.2.0",
            "_model_name": "LayoutModel",
            "_view_count": null,
            "_view_module": "@jupyter-widgets/base",
            "_view_module_version": "1.2.0",
            "_view_name": "LayoutView",
            "align_content": null,
            "align_items": null,
            "align_self": null,
            "border": null,
            "bottom": null,
            "display": null,
            "flex": null,
            "flex_flow": null,
            "grid_area": null,
            "grid_auto_columns": null,
            "grid_auto_flow": null,
            "grid_auto_rows": null,
            "grid_column": null,
            "grid_gap": null,
            "grid_row": null,
            "grid_template_areas": null,
            "grid_template_columns": null,
            "grid_template_rows": null,
            "height": null,
            "justify_content": null,
            "justify_items": null,
            "left": null,
            "margin": null,
            "max_height": null,
            "max_width": null,
            "min_height": null,
            "min_width": null,
            "object_fit": null,
            "object_position": null,
            "order": null,
            "overflow": null,
            "overflow_x": null,
            "overflow_y": null,
            "padding": null,
            "right": null,
            "top": null,
            "visibility": null,
            "width": null
          }
        },
        "4f17a9e640f14d1a81238766adb2197c": {
          "model_module": "@jupyter-widgets/base",
          "model_name": "LayoutModel",
          "model_module_version": "1.2.0",
          "state": {
            "_model_module": "@jupyter-widgets/base",
            "_model_module_version": "1.2.0",
            "_model_name": "LayoutModel",
            "_view_count": null,
            "_view_module": "@jupyter-widgets/base",
            "_view_module_version": "1.2.0",
            "_view_name": "LayoutView",
            "align_content": null,
            "align_items": null,
            "align_self": null,
            "border": null,
            "bottom": null,
            "display": null,
            "flex": null,
            "flex_flow": null,
            "grid_area": null,
            "grid_auto_columns": null,
            "grid_auto_flow": null,
            "grid_auto_rows": null,
            "grid_column": null,
            "grid_gap": null,
            "grid_row": null,
            "grid_template_areas": null,
            "grid_template_columns": null,
            "grid_template_rows": null,
            "height": null,
            "justify_content": null,
            "justify_items": null,
            "left": null,
            "margin": null,
            "max_height": null,
            "max_width": null,
            "min_height": null,
            "min_width": null,
            "object_fit": null,
            "object_position": null,
            "order": null,
            "overflow": null,
            "overflow_x": null,
            "overflow_y": null,
            "padding": null,
            "right": null,
            "top": null,
            "visibility": null,
            "width": null
          }
        },
        "0120d18913a8438da704f680464bbe29": {
          "model_module": "@jupyter-widgets/controls",
          "model_name": "TabModel",
          "model_module_version": "1.5.0",
          "state": {
            "_dom_classes": [],
            "_model_module": "@jupyter-widgets/controls",
            "_model_module_version": "1.5.0",
            "_model_name": "TabModel",
            "_titles": {
              "0": "Youtube",
              "1": "Bilibili"
            },
            "_view_count": null,
            "_view_module": "@jupyter-widgets/controls",
            "_view_module_version": "1.5.0",
            "_view_name": "TabView",
            "box_style": "",
            "children": [
              "IPY_MODEL_1fe6c8df535d41bbbf0a376ff571d38b",
              "IPY_MODEL_83818043791e41f2bbf68345784a7ac4"
            ],
            "layout": "IPY_MODEL_1411bb70d8a24025b74ccff7b7e5cd9b",
            "selected_index": 0
          }
        },
        "1fe6c8df535d41bbbf0a376ff571d38b": {
          "model_module": "@jupyter-widgets/output",
          "model_name": "OutputModel",
          "model_module_version": "1.0.0",
          "state": {
            "_dom_classes": [],
            "_model_module": "@jupyter-widgets/output",
            "_model_module_version": "1.0.0",
            "_model_name": "OutputModel",
            "_view_count": null,
            "_view_module": "@jupyter-widgets/output",
            "_view_module_version": "1.0.0",
            "_view_name": "OutputView",
            "layout": "IPY_MODEL_5e3f57a1fe5c415492dce5b766e30de4",
            "msg_id": "",
            "outputs": [
              {
                "output_type": "stream",
                "name": "stdout",
                "text": [
                  "Video available at https://youtube.com/watch?v=nvpHtzuZggg\n"
                ]
              },
              {
                "output_type": "display_data",
                "data": {
                  "text/plain": "<IPython.lib.display.YouTubeVideo at 0x7f1f410162d0>",
                  "text/html": "\n        <iframe\n            width=\"854\"\n            height=\"480\"\n            src=\"https://www.youtube.com/embed/nvpHtzuZggg?fs=1&rel=0\"\n            frameborder=\"0\"\n            allowfullscreen\n        ></iframe>\n        ",
                  "image/jpeg": "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\n"
                },
                "metadata": {}
              }
            ]
          }
        },
        "83818043791e41f2bbf68345784a7ac4": {
          "model_module": "@jupyter-widgets/output",
          "model_name": "OutputModel",
          "model_module_version": "1.0.0",
          "state": {
            "_dom_classes": [],
            "_model_module": "@jupyter-widgets/output",
            "_model_module_version": "1.0.0",
            "_model_name": "OutputModel",
            "_view_count": null,
            "_view_module": "@jupyter-widgets/output",
            "_view_module_version": "1.0.0",
            "_view_name": "OutputView",
            "layout": "IPY_MODEL_4ed99f12d1f8470ebe4172d726453762",
            "msg_id": "",
            "outputs": [
              {
                "output_type": "stream",
                "name": "stdout",
                "text": [
                  "Video available at https://www.bilibili.com/video/BV1GC4y1h7hi\n"
                ]
              },
              {
                "output_type": "display_data",
                "data": {
                  "text/plain": "<__main__.BiliVideo at 0x7f1f40ff8510>",
                  "text/html": "\n        <iframe\n            width=\"854\"\n            height=\"480\"\n            src=\"https://player.bilibili.com/player.html?bvid=BV1GC4y1h7hi&page=1?fs=1\"\n            frameborder=\"0\"\n            allowfullscreen\n        ></iframe>\n        "
                },
                "metadata": {}
              }
            ]
          }
        },
        "1411bb70d8a24025b74ccff7b7e5cd9b": {
          "model_module": "@jupyter-widgets/base",
          "model_name": "LayoutModel",
          "model_module_version": "1.2.0",
          "state": {
            "_model_module": "@jupyter-widgets/base",
            "_model_module_version": "1.2.0",
            "_model_name": "LayoutModel",
            "_view_count": null,
            "_view_module": "@jupyter-widgets/base",
            "_view_module_version": "1.2.0",
            "_view_name": "LayoutView",
            "align_content": null,
            "align_items": null,
            "align_self": null,
            "border": null,
            "bottom": null,
            "display": null,
            "flex": null,
            "flex_flow": null,
            "grid_area": null,
            "grid_auto_columns": null,
            "grid_auto_flow": null,
            "grid_auto_rows": null,
            "grid_column": null,
            "grid_gap": null,
            "grid_row": null,
            "grid_template_areas": null,
            "grid_template_columns": null,
            "grid_template_rows": null,
            "height": null,
            "justify_content": null,
            "justify_items": null,
            "left": null,
            "margin": null,
            "max_height": null,
            "max_width": null,
            "min_height": null,
            "min_width": null,
            "object_fit": null,
            "object_position": null,
            "order": null,
            "overflow": null,
            "overflow_x": null,
            "overflow_y": null,
            "padding": null,
            "right": null,
            "top": null,
            "visibility": null,
            "width": null
          }
        },
        "5e3f57a1fe5c415492dce5b766e30de4": {
          "model_module": "@jupyter-widgets/base",
          "model_name": "LayoutModel",
          "model_module_version": "1.2.0",
          "state": {
            "_model_module": "@jupyter-widgets/base",
            "_model_module_version": "1.2.0",
            "_model_name": "LayoutModel",
            "_view_count": null,
            "_view_module": "@jupyter-widgets/base",
            "_view_module_version": "1.2.0",
            "_view_name": "LayoutView",
            "align_content": null,
            "align_items": null,
            "align_self": null,
            "border": null,
            "bottom": null,
            "display": null,
            "flex": null,
            "flex_flow": null,
            "grid_area": null,
            "grid_auto_columns": null,
            "grid_auto_flow": null,
            "grid_auto_rows": null,
            "grid_column": null,
            "grid_gap": null,
            "grid_row": null,
            "grid_template_areas": null,
            "grid_template_columns": null,
            "grid_template_rows": null,
            "height": null,
            "justify_content": null,
            "justify_items": null,
            "left": null,
            "margin": null,
            "max_height": null,
            "max_width": null,
            "min_height": null,
            "min_width": null,
            "object_fit": null,
            "object_position": null,
            "order": null,
            "overflow": null,
            "overflow_x": null,
            "overflow_y": null,
            "padding": null,
            "right": null,
            "top": null,
            "visibility": null,
            "width": null
          }
        },
        "4ed99f12d1f8470ebe4172d726453762": {
          "model_module": "@jupyter-widgets/base",
          "model_name": "LayoutModel",
          "model_module_version": "1.2.0",
          "state": {
            "_model_module": "@jupyter-widgets/base",
            "_model_module_version": "1.2.0",
            "_model_name": "LayoutModel",
            "_view_count": null,
            "_view_module": "@jupyter-widgets/base",
            "_view_module_version": "1.2.0",
            "_view_name": "LayoutView",
            "align_content": null,
            "align_items": null,
            "align_self": null,
            "border": null,
            "bottom": null,
            "display": null,
            "flex": null,
            "flex_flow": null,
            "grid_area": null,
            "grid_auto_columns": null,
            "grid_auto_flow": null,
            "grid_auto_rows": null,
            "grid_column": null,
            "grid_gap": null,
            "grid_row": null,
            "grid_template_areas": null,
            "grid_template_columns": null,
            "grid_template_rows": null,
            "height": null,
            "justify_content": null,
            "justify_items": null,
            "left": null,
            "margin": null,
            "max_height": null,
            "max_width": null,
            "min_height": null,
            "min_width": null,
            "object_fit": null,
            "object_position": null,
            "order": null,
            "overflow": null,
            "overflow_x": null,
            "overflow_y": null,
            "padding": null,
            "right": null,
            "top": null,
            "visibility": null,
            "width": null
          }
        }
      }
    }
  },
  "nbformat": 4,
  "nbformat_minor": 0
}